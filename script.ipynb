{
 "cells": [
  {
   "cell_type": "code",
   "execution_count": 1,
   "metadata": {
    "colab": {
     "base_uri": "https://localhost:8080/"
    },
    "id": "DYK8qDkzGqjp",
    "outputId": "21c1c75d-17e2-40ff-8b9d-c90f43e5feb3"
   },
   "outputs": [],
   "source": [
    "# from google.colab import drive\n",
    "# drive.mount('/content/drive')"
   ]
  },
  {
   "cell_type": "code",
   "execution_count": 2,
   "metadata": {
    "id": "vIiVfVTxGD-m"
   },
   "outputs": [],
   "source": [
    "import pandas as pd\n",
    "import numpy as np\n",
    "import matplotlib.pyplot as plt\n",
    "import seaborn as sns"
   ]
  },
  {
   "cell_type": "code",
   "execution_count": 3,
   "metadata": {
    "colab": {
     "base_uri": "https://localhost:8080/"
    },
    "id": "v9irF8LPGD-r",
    "outputId": "b9a2c743-e5b1-4094-e153-de8be81b37e7"
   },
   "outputs": [
    {
     "data": {
      "text/plain": [
       "(3000, 2)"
      ]
     },
     "execution_count": 3,
     "metadata": {},
     "output_type": "execute_result"
    }
   ],
   "source": [
    "df=pd.read_csv(\"Text_Similarity.csv\")\n",
    "df.shape"
   ]
  },
  {
   "cell_type": "code",
   "execution_count": 4,
   "metadata": {
    "colab": {
     "base_uri": "https://localhost:8080/",
     "height": 206
    },
    "id": "skK8tfOnGD-s",
    "outputId": "7a5862ca-956d-422d-d07d-75960cb111fa"
   },
   "outputs": [
    {
     "data": {
      "text/html": [
       "<div>\n",
       "<style scoped>\n",
       "    .dataframe tbody tr th:only-of-type {\n",
       "        vertical-align: middle;\n",
       "    }\n",
       "\n",
       "    .dataframe tbody tr th {\n",
       "        vertical-align: top;\n",
       "    }\n",
       "\n",
       "    .dataframe thead th {\n",
       "        text-align: right;\n",
       "    }\n",
       "</style>\n",
       "<table border=\"1\" class=\"dataframe\">\n",
       "  <thead>\n",
       "    <tr style=\"text-align: right;\">\n",
       "      <th></th>\n",
       "      <th>text1</th>\n",
       "      <th>text2</th>\n",
       "    </tr>\n",
       "  </thead>\n",
       "  <tbody>\n",
       "    <tr>\n",
       "      <th>0</th>\n",
       "      <td>broadband challenges tv viewing the number of ...</td>\n",
       "      <td>gardener wins double in glasgow britain s jaso...</td>\n",
       "    </tr>\n",
       "    <tr>\n",
       "      <th>1</th>\n",
       "      <td>rap boss arrested over drug find rap mogul mar...</td>\n",
       "      <td>amnesty chief laments war failure the lack of ...</td>\n",
       "    </tr>\n",
       "    <tr>\n",
       "      <th>2</th>\n",
       "      <td>player burn-out worries robinson england coach...</td>\n",
       "      <td>hanks greeted at wintry premiere hollywood sta...</td>\n",
       "    </tr>\n",
       "    <tr>\n",
       "      <th>3</th>\n",
       "      <td>hearts of oak 3-2 cotonsport hearts of oak set...</td>\n",
       "      <td>redford s vision of sundance despite sporting ...</td>\n",
       "    </tr>\n",
       "    <tr>\n",
       "      <th>4</th>\n",
       "      <td>sir paul rocks super bowl crowds sir paul mcca...</td>\n",
       "      <td>mauresmo opens with victory in la amelie maure...</td>\n",
       "    </tr>\n",
       "  </tbody>\n",
       "</table>\n",
       "</div>"
      ],
      "text/plain": [
       "                                               text1  \\\n",
       "0  broadband challenges tv viewing the number of ...   \n",
       "1  rap boss arrested over drug find rap mogul mar...   \n",
       "2  player burn-out worries robinson england coach...   \n",
       "3  hearts of oak 3-2 cotonsport hearts of oak set...   \n",
       "4  sir paul rocks super bowl crowds sir paul mcca...   \n",
       "\n",
       "                                               text2  \n",
       "0  gardener wins double in glasgow britain s jaso...  \n",
       "1  amnesty chief laments war failure the lack of ...  \n",
       "2  hanks greeted at wintry premiere hollywood sta...  \n",
       "3  redford s vision of sundance despite sporting ...  \n",
       "4  mauresmo opens with victory in la amelie maure...  "
      ]
     },
     "execution_count": 4,
     "metadata": {},
     "output_type": "execute_result"
    }
   ],
   "source": [
    "df.head(5)"
   ]
  },
  {
   "cell_type": "code",
   "execution_count": 5,
   "metadata": {
    "colab": {
     "base_uri": "https://localhost:8080/",
     "height": 206
    },
    "id": "w7E4CHhhGD-t",
    "outputId": "e848a0bd-cc24-4a20-c904-dac60ed467b6"
   },
   "outputs": [
    {
     "data": {
      "text/html": [
       "<div>\n",
       "<style scoped>\n",
       "    .dataframe tbody tr th:only-of-type {\n",
       "        vertical-align: middle;\n",
       "    }\n",
       "\n",
       "    .dataframe tbody tr th {\n",
       "        vertical-align: top;\n",
       "    }\n",
       "\n",
       "    .dataframe thead th {\n",
       "        text-align: right;\n",
       "    }\n",
       "</style>\n",
       "<table border=\"1\" class=\"dataframe\">\n",
       "  <thead>\n",
       "    <tr style=\"text-align: right;\">\n",
       "      <th></th>\n",
       "      <th>text1</th>\n",
       "      <th>text2</th>\n",
       "    </tr>\n",
       "  </thead>\n",
       "  <tbody>\n",
       "    <tr>\n",
       "      <th>2995</th>\n",
       "      <td>uk directors guild nominees named martin scors...</td>\n",
       "      <td>steel firm  to cut  45 000 jobs mittal steel  ...</td>\n",
       "    </tr>\n",
       "    <tr>\n",
       "      <th>2996</th>\n",
       "      <td>u2 to play at grammy awards show irish rock ba...</td>\n",
       "      <td>israel looks to us for bank chief israel has a...</td>\n",
       "    </tr>\n",
       "    <tr>\n",
       "      <th>2997</th>\n",
       "      <td>pountney handed ban and fine northampton coach...</td>\n",
       "      <td>india and iran in gas export deal india has si...</td>\n",
       "    </tr>\n",
       "    <tr>\n",
       "      <th>2998</th>\n",
       "      <td>belle named  best scottish band  belle &amp; sebas...</td>\n",
       "      <td>mido makes third apology ahmed  mido  hossam h...</td>\n",
       "    </tr>\n",
       "    <tr>\n",
       "      <th>2999</th>\n",
       "      <td>criminal probe on citigroup deals traders at u...</td>\n",
       "      <td>former ni minister scott dies former northern ...</td>\n",
       "    </tr>\n",
       "  </tbody>\n",
       "</table>\n",
       "</div>"
      ],
      "text/plain": [
       "                                                  text1  \\\n",
       "2995  uk directors guild nominees named martin scors...   \n",
       "2996  u2 to play at grammy awards show irish rock ba...   \n",
       "2997  pountney handed ban and fine northampton coach...   \n",
       "2998  belle named  best scottish band  belle & sebas...   \n",
       "2999  criminal probe on citigroup deals traders at u...   \n",
       "\n",
       "                                                  text2  \n",
       "2995  steel firm  to cut  45 000 jobs mittal steel  ...  \n",
       "2996  israel looks to us for bank chief israel has a...  \n",
       "2997  india and iran in gas export deal india has si...  \n",
       "2998  mido makes third apology ahmed  mido  hossam h...  \n",
       "2999  former ni minister scott dies former northern ...  "
      ]
     },
     "execution_count": 5,
     "metadata": {},
     "output_type": "execute_result"
    }
   ],
   "source": [
    "df.tail(5)"
   ]
  },
  {
   "cell_type": "code",
   "execution_count": 6,
   "metadata": {
    "colab": {
     "base_uri": "https://localhost:8080/",
     "height": 206
    },
    "id": "1Fqkxmu3GD-t",
    "outputId": "7e4ac124-8907-4442-bf94-8404778747b1"
   },
   "outputs": [
    {
     "data": {
      "text/html": [
       "<div>\n",
       "<style scoped>\n",
       "    .dataframe tbody tr th:only-of-type {\n",
       "        vertical-align: middle;\n",
       "    }\n",
       "\n",
       "    .dataframe tbody tr th {\n",
       "        vertical-align: top;\n",
       "    }\n",
       "\n",
       "    .dataframe thead th {\n",
       "        text-align: right;\n",
       "    }\n",
       "</style>\n",
       "<table border=\"1\" class=\"dataframe\">\n",
       "  <thead>\n",
       "    <tr style=\"text-align: right;\">\n",
       "      <th></th>\n",
       "      <th>text1</th>\n",
       "      <th>text2</th>\n",
       "    </tr>\n",
       "  </thead>\n",
       "  <tbody>\n",
       "    <tr>\n",
       "      <th>453</th>\n",
       "      <td>early elvis recordings go on sale some of elvi...</td>\n",
       "      <td>roche  turns down federer offer  australian te...</td>\n",
       "    </tr>\n",
       "    <tr>\n",
       "      <th>451</th>\n",
       "      <td>lewis-francis eyeing world gold mark lewis-fra...</td>\n",
       "      <td>hantuchova in dubai last eight daniela hantuch...</td>\n",
       "    </tr>\n",
       "    <tr>\n",
       "      <th>2375</th>\n",
       "      <td>david blunkett in quotes david blunkett - who ...</td>\n",
       "      <td>chancellor rallies labour voters gordon brown ...</td>\n",
       "    </tr>\n",
       "    <tr>\n",
       "      <th>2249</th>\n",
       "      <td>housing plans criticised by mps  irreversible ...</td>\n",
       "      <td>stallone evicted from big brother jackie stall...</td>\n",
       "    </tr>\n",
       "    <tr>\n",
       "      <th>1920</th>\n",
       "      <td>sony psp tipped as a  must-have  sony s playst...</td>\n",
       "      <td>microsoft debuts security tools microsoft is r...</td>\n",
       "    </tr>\n",
       "  </tbody>\n",
       "</table>\n",
       "</div>"
      ],
      "text/plain": [
       "                                                  text1  \\\n",
       "453   early elvis recordings go on sale some of elvi...   \n",
       "451   lewis-francis eyeing world gold mark lewis-fra...   \n",
       "2375  david blunkett in quotes david blunkett - who ...   \n",
       "2249  housing plans criticised by mps  irreversible ...   \n",
       "1920  sony psp tipped as a  must-have  sony s playst...   \n",
       "\n",
       "                                                  text2  \n",
       "453   roche  turns down federer offer  australian te...  \n",
       "451   hantuchova in dubai last eight daniela hantuch...  \n",
       "2375  chancellor rallies labour voters gordon brown ...  \n",
       "2249  stallone evicted from big brother jackie stall...  \n",
       "1920  microsoft debuts security tools microsoft is r...  "
      ]
     },
     "execution_count": 6,
     "metadata": {},
     "output_type": "execute_result"
    }
   ],
   "source": [
    "df.sample(5)"
   ]
  },
  {
   "cell_type": "code",
   "execution_count": 7,
   "metadata": {
    "colab": {
     "base_uri": "https://localhost:8080/"
    },
    "id": "838MHey1GD-u",
    "outputId": "428c5234-f9e0-4d13-adbe-652c3870b728"
   },
   "outputs": [
    {
     "name": "stdout",
     "output_type": "stream",
     "text": [
      "<class 'pandas.core.frame.DataFrame'>\n",
      "RangeIndex: 3000 entries, 0 to 2999\n",
      "Data columns (total 2 columns):\n",
      " #   Column  Non-Null Count  Dtype \n",
      "---  ------  --------------  ----- \n",
      " 0   text1   3000 non-null   object\n",
      " 1   text2   3000 non-null   object\n",
      "dtypes: object(2)\n",
      "memory usage: 47.0+ KB\n"
     ]
    }
   ],
   "source": [
    "df.info()"
   ]
  },
  {
   "cell_type": "code",
   "execution_count": 8,
   "metadata": {
    "colab": {
     "base_uri": "https://localhost:8080/"
    },
    "id": "yvf3ptNIGD-u",
    "outputId": "575b69f1-38e7-44e4-821f-2f5ec3b3f12e"
   },
   "outputs": [
    {
     "data": {
      "text/plain": [
       "1"
      ]
     },
     "execution_count": 8,
     "metadata": {},
     "output_type": "execute_result"
    }
   ],
   "source": [
    "df.duplicated().sum()"
   ]
  },
  {
   "cell_type": "code",
   "execution_count": 9,
   "metadata": {
    "colab": {
     "base_uri": "https://localhost:8080/"
    },
    "id": "Iq4IgUSPGD-v",
    "outputId": "f1010b43-994b-4fb8-df47-f8fda3c67c63"
   },
   "outputs": [
    {
     "data": {
      "text/plain": [
       "(2999, 2)"
      ]
     },
     "execution_count": 9,
     "metadata": {},
     "output_type": "execute_result"
    }
   ],
   "source": [
    "df.drop_duplicates(inplace=True)\n",
    "df.shape"
   ]
  },
  {
   "cell_type": "code",
   "execution_count": 10,
   "metadata": {
    "colab": {
     "base_uri": "https://localhost:8080/"
    },
    "id": "PNrQ0qCfGD-w",
    "outputId": "8db215c6-8cce-4eda-f38d-f6972796b50c"
   },
   "outputs": [
    {
     "data": {
      "text/plain": [
       "0"
      ]
     },
     "execution_count": 10,
     "metadata": {},
     "output_type": "execute_result"
    }
   ],
   "source": [
    "df.duplicated().sum()"
   ]
  },
  {
   "cell_type": "code",
   "execution_count": 11,
   "metadata": {
    "colab": {
     "base_uri": "https://localhost:8080/",
     "height": 126
    },
    "id": "-M896iVaGD-x",
    "outputId": "c291463c-4dab-47c6-a384-872b05a1e59b"
   },
   "outputs": [
    {
     "data": {
      "text/plain": [
       "'broadband challenges tv viewing the number of europeans with broadband has exploded over the past 12 months  with the web eating into tv viewing habits  research suggests.  just over 54 million people are hooked up to the net via broadband  up from 34 million a year ago  according to market analysts nielsen/netratings. the total number of people online in europe has broken the 100 million mark. the popularity of the net has meant that many are turning away from tv  say analysts jupiter research. it found that a quarter of web users said they spent less time watching tv in favour of the net  the report by nielsen/netratings found that the number of people with fast internet access had risen by 60% over the past year.  the biggest jump was in italy  where it rose by 120%. britain was close behind  with broadband users almost doubling in a year. the growth has been fuelled by lower prices and a wider choice of always-on  fast-net subscription plans.  twelve months ago high speed internet users made up just over one third of the audience in europe; now they are more than 50% and we expect this number to keep growing   said gabrielle prior  nielsen/netratings analyst.  as the number of high-speed surfers grows  websites will need to adapt  update and enhance their content to retain their visitors and encourage new ones.  the total number of europeans online rose by 12% to 100 million over the past year  the report showed  with the biggest rise in france  italy  britain and germany.  the ability to browse web pages at high speed  download files such as music or films and play online games is changing what people do in their spare time.  a study by analysts jupiter research suggested that broadband was challenging television viewing habits. in homes with broadband  40% said they were spending less time watching tv. the threat to tv was greatest in countries where broadband was on the up  in particular the uk  france and spain  said the report. it said tv companies faced a major long-term threat over the next five years  with broadband predicted to grow from 19% to 37% of households by 2009.  year-on-year we are continuing to see a seismic shift in where  when and how europe s population consume media for information and entertainment and this has big implications for tv  newspaper and radio   said jupiter research analyst olivier beauvillian.'"
      ]
     },
     "execution_count": 11,
     "metadata": {},
     "output_type": "execute_result"
    }
   ],
   "source": [
    "df.text1[0]"
   ]
  },
  {
   "cell_type": "code",
   "execution_count": 12,
   "metadata": {
    "colab": {
     "base_uri": "https://localhost:8080/",
     "height": 126
    },
    "id": "rqYdRehrGD-y",
    "outputId": "3db9fad9-27a9-46c8-f080-bf6ec28570cf"
   },
   "outputs": [
    {
     "data": {
      "text/plain": [
       "'gardener wins double in glasgow britain s jason gardener enjoyed a double 60m success in glasgow in his first competitive outing since he won 100m relay gold at the athens olympics.  gardener cruised home ahead of scot nick smith to win the invitational race at the norwich union international. he then recovered from a poor start in the second race to beat swede daniel persson and italy s luca verdecchia. his times of 6.61 and 6.62 seconds were well short of american maurice greene s 60m world record of 6.39secs from 1998.  it s a very hard record to break  but i believe i ve trained very well   said the world indoor champion  who hopes to get closer to the mark this season.  it was important to come out and make sure i got maximum points. my last race was the olympic final and there was a lot of expectation.  this was just what i needed to sharpen up and get some race fitness. i m very excited about the next couple of months.   double olympic champion  marked her first appearance on home soil since winning 1500m and 800m gold in athens with a victory. there was a third success for britain when  edged out russia s olga fedorova and sweden s jenny kallur to win the women s 60m race in 7.23secs. maduaka was unable to repeat the feat in the 200m  finishing down in fourth as  took the win for russia. and the 31-year-old also missed out on a podium place in the 4x200m relay as the british quartet came in fourth  with russia setting a new world indoor record. there was a setback for jade johnson as she suffered a recurrence of her back injury in the long jump. russia won the meeting with a final total of 63 points  with britain second on 48 and france one point behind in third.  led the way for russia by producing a major shock in the high jump as he beat olympic champion stefan holm into second place to end the swede s 22-event unbeaten record.  won the triple jump with a leap of 16.87m  with britain s tosin oke fourth in 15.80m.  won the men s pole vault competition with a clearance of 5.65m  with britain s nick buckfield 51cm adrift of his personal best in third. and  won the women s 800m  with britain s jenny meadows third. there was yet another russian victory in the women s 400m as  finished well clear of britain s catherine murphy. chris lambert had to settle for fourth after fading in the closing stages of the men s 200m race as sweden s  held off leslie djhone of france. france s  won the men s 400m  with brett rund fourth for britain.  took victory for sweden in the women s 60m hurdles ahead of russia s irina shevchenko and britain s sarah claxton  who set a new personal best. italy grabbed their first victory in the men s 1500m as  kicked over the last 200 metres to hold off britain s james thie and france s alexis abraham. a botched changeover in the 4x200m relay cost britain s men the chance to add further points as france claimed victory.'"
      ]
     },
     "execution_count": 12,
     "metadata": {},
     "output_type": "execute_result"
    }
   ],
   "source": [
    "df.text2[0]"
   ]
  },
  {
   "cell_type": "markdown",
   "metadata": {
    "id": "WiYOja-n0jgZ"
   },
   "source": [
    "## **Text Preprocessing**"
   ]
  },
  {
   "cell_type": "code",
   "execution_count": 13,
   "metadata": {
    "id": "NauPP0F0GD-z"
   },
   "outputs": [],
   "source": [
    "chat_words = {\n",
    "    'AFAIK': 'As Far As I Know',\n",
    "    'AFK': 'Away From Keyboard',\n",
    "    'ASAP': 'As Soon As Possible',\n",
    "    'ATK': 'At The Keyboard',\n",
    "    'ATM': 'At The Moment',\n",
    "    'A3': 'Anytime, Anywhere, Anyplace',\n",
    "    'BAK': 'Back At Keyboard',\n",
    "    'BBL': 'Be Back Later',\n",
    "    'BBS': 'Be Back Soon',\n",
    "    'BFN': 'Bye For Now',\n",
    "    'B4N': 'Bye For Now',\n",
    "    'BRB': 'Be Right Back',\n",
    "    'BRT': 'Be Right There',\n",
    "    'BTW': 'By The Way',\n",
    "    'B4': 'Before',\n",
    "    'B4N': 'Bye For Now',\n",
    "    'CU': 'See You',\n",
    "    'CUL8R': 'See You Later',\n",
    "    'CYA': 'See You',\n",
    "    'FAQ': 'Frequently Asked Questions',\n",
    "    'FC': 'Fingers Crossed',\n",
    "    'FWIW': 'For What It\\'s Worth',\n",
    "    'FYI': 'For Your Information',\n",
    "    'GAL': 'Get A Life',\n",
    "    'GG': 'Good Game',\n",
    "    'GN': 'Good Night',\n",
    "    'GMTA': 'Great Minds Think Alike',\n",
    "    'GR8': 'Great!',\n",
    "    'G9': 'Genius',\n",
    "    'IC': 'I See',\n",
    "    'ICQ': 'I Seek you (also a chat program)',\n",
    "    'ILU': 'ILU: I Love You',\n",
    "    'IMHO': 'In My Honest/Humble Opinion',\n",
    "    'IMO': 'In My Opinion',\n",
    "    'IOW': 'In Other Words',\n",
    "    'IRL': 'In Real Life',\n",
    "    'KISS': 'Keep It Simple, Stupid',\n",
    "    'LDR': 'Long Distance Relationship',\n",
    "    'LMAO': 'Laugh My A.. Off',\n",
    "    'LOL': 'Laughing Out Loud',\n",
    "    'LTNS': 'Long Time No See',\n",
    "    'L8R': 'Later',\n",
    "    'MTE': 'My Thoughts Exactly',\n",
    "    'M8': 'Mate',\n",
    "    'NRN': 'No Reply Necessary',\n",
    "    'OIC': 'Oh I See',\n",
    "    'PITA': 'Pain In The A..',\n",
    "    'PRT': 'Party',\n",
    "    'PRW': 'Parents Are Watching',\n",
    "    'QPSA': 'Que Pasa?',\n",
    "    'ROFL': 'Rolling On The Floor Laughing',\n",
    "    'ROFLOL': 'Rolling On The Floor Laughing Out Loud',\n",
    "    'ROTFLMAO': 'Rolling On The Floor Laughing My A.. Off',\n",
    "    'SK8': 'Skate',\n",
    "    'STATS': 'Your sex and age',\n",
    "    'ASL': 'Age, Sex, Location',\n",
    "    'THX': 'Thank You',\n",
    "    'TTFN': 'Ta-Ta For Now!',\n",
    "    'TTYL': 'Talk To You Later',\n",
    "    'U': 'You',\n",
    "    'U2': 'You Too',\n",
    "    'U4E': 'Yours For Ever',\n",
    "    'WB': 'Welcome Back',\n",
    "    'WTF': 'What The F...',\n",
    "    'WTG': 'Way To Go!',\n",
    "    'WUF': 'Where Are You From?',\n",
    "    'W8': 'Wait...',\n",
    "    '7K': 'Sick:-D Laughter',\n",
    "    'TFW': 'That feeling when. TFW internet slang often goes in a caption to an image.',\n",
    "    'MFW': 'My face when',\n",
    "    'MRW': 'My reaction when',\n",
    "    'IFYP': 'I feel your pain',\n",
    "    'LOL': 'Laughing out loud',\n",
    "    'TNTL': 'Trying not to laugh',\n",
    "    'JK': 'Just kidding',\n",
    "    'IDC': 'I don’t care',\n",
    "    'ILY': 'I love you',\n",
    "    'IMU': 'I miss you',\n",
    "    'ADIH': 'Another day in hell',\n",
    "    'IDC': 'I don’t care',\n",
    "    'ZZZ': 'Sleeping, bored, tired',\n",
    "    'WYWH': 'Wish you were here',\n",
    "    'TIME': 'Tears in my eyes',\n",
    "    'BAE': 'Before anyone else',\n",
    "    'FIMH': 'Forever in my heart',\n",
    "    'BSAAW': 'Big smile and a wink',\n",
    "    'BWL': 'Bursting with laughter',\n",
    "    'LMAO': 'Laughing my a** off',\n",
    "    'BFF': 'Best friends forever',\n",
    "    'CSL': 'Can’t stop laughing'\n",
    "}"
   ]
  },
  {
   "cell_type": "code",
   "execution_count": 14,
   "metadata": {
    "id": "bU8OMesOGD-0"
   },
   "outputs": [],
   "source": [
    "def chat_word_treat(text):\n",
    "    l=[]\n",
    "    for w in text.split():\n",
    "        if w.upper() in chat_words:\n",
    "            l.append(chat_words[w.upper()])\n",
    "        else:\n",
    "            l.append(w)\n",
    "    return ''.join(text)"
   ]
  },
  {
   "cell_type": "code",
   "execution_count": 15,
   "metadata": {
    "colab": {
     "base_uri": "https://localhost:8080/",
     "height": 206
    },
    "id": "3ZhXbFmzGD-0",
    "outputId": "6f9135e9-79db-4042-a3ba-4c9eed309900"
   },
   "outputs": [
    {
     "data": {
      "text/html": [
       "<div>\n",
       "<style scoped>\n",
       "    .dataframe tbody tr th:only-of-type {\n",
       "        vertical-align: middle;\n",
       "    }\n",
       "\n",
       "    .dataframe tbody tr th {\n",
       "        vertical-align: top;\n",
       "    }\n",
       "\n",
       "    .dataframe thead th {\n",
       "        text-align: right;\n",
       "    }\n",
       "</style>\n",
       "<table border=\"1\" class=\"dataframe\">\n",
       "  <thead>\n",
       "    <tr style=\"text-align: right;\">\n",
       "      <th></th>\n",
       "      <th>text1</th>\n",
       "      <th>text2</th>\n",
       "    </tr>\n",
       "  </thead>\n",
       "  <tbody>\n",
       "    <tr>\n",
       "      <th>1726</th>\n",
       "      <td>gadget market  to grow in 2005  the explosion ...</td>\n",
       "      <td>blair backs  pre-election budget  tony blair h...</td>\n",
       "    </tr>\n",
       "    <tr>\n",
       "      <th>2798</th>\n",
       "      <td>no re-draft  for eu patent law a proposed euro...</td>\n",
       "      <td>stock market eyes japan recovery japanese shar...</td>\n",
       "    </tr>\n",
       "    <tr>\n",
       "      <th>384</th>\n",
       "      <td>franz man seeks government help franz ferdinan...</td>\n",
       "      <td>cable offers video-on-demand cable firms ntl a...</td>\n",
       "    </tr>\n",
       "    <tr>\n",
       "      <th>1357</th>\n",
       "      <td>thomas out of six nations wales captain gareth...</td>\n",
       "      <td>poll explains free-kick decision referee graha...</td>\n",
       "    </tr>\n",
       "    <tr>\n",
       "      <th>1979</th>\n",
       "      <td>ferguson fears milan cutting edge manchester u...</td>\n",
       "      <td>johnson edges out rival sotherton jade johnson...</td>\n",
       "    </tr>\n",
       "  </tbody>\n",
       "</table>\n",
       "</div>"
      ],
      "text/plain": [
       "                                                  text1  \\\n",
       "1726  gadget market  to grow in 2005  the explosion ...   \n",
       "2798  no re-draft  for eu patent law a proposed euro...   \n",
       "384   franz man seeks government help franz ferdinan...   \n",
       "1357  thomas out of six nations wales captain gareth...   \n",
       "1979  ferguson fears milan cutting edge manchester u...   \n",
       "\n",
       "                                                  text2  \n",
       "1726  blair backs  pre-election budget  tony blair h...  \n",
       "2798  stock market eyes japan recovery japanese shar...  \n",
       "384   cable offers video-on-demand cable firms ntl a...  \n",
       "1357  poll explains free-kick decision referee graha...  \n",
       "1979  johnson edges out rival sotherton jade johnson...  "
      ]
     },
     "execution_count": 15,
     "metadata": {},
     "output_type": "execute_result"
    }
   ],
   "source": [
    "df['text1']=df['text1'].apply(chat_word_treat)\n",
    "df.sample(5)"
   ]
  },
  {
   "cell_type": "code",
   "execution_count": 16,
   "metadata": {
    "colab": {
     "base_uri": "https://localhost:8080/",
     "height": 206
    },
    "id": "KLt3-8P1GD-0",
    "outputId": "89ea1b5b-2d74-4dca-a1e8-85ddd0b9c5ab"
   },
   "outputs": [
    {
     "data": {
      "text/html": [
       "<div>\n",
       "<style scoped>\n",
       "    .dataframe tbody tr th:only-of-type {\n",
       "        vertical-align: middle;\n",
       "    }\n",
       "\n",
       "    .dataframe tbody tr th {\n",
       "        vertical-align: top;\n",
       "    }\n",
       "\n",
       "    .dataframe thead th {\n",
       "        text-align: right;\n",
       "    }\n",
       "</style>\n",
       "<table border=\"1\" class=\"dataframe\">\n",
       "  <thead>\n",
       "    <tr style=\"text-align: right;\">\n",
       "      <th></th>\n",
       "      <th>text1</th>\n",
       "      <th>text2</th>\n",
       "    </tr>\n",
       "  </thead>\n",
       "  <tbody>\n",
       "    <tr>\n",
       "      <th>1738</th>\n",
       "      <td>civil servants in strike ballot the uk s bigge...</td>\n",
       "      <td>henson stakes early lions claim the six nation...</td>\n",
       "    </tr>\n",
       "    <tr>\n",
       "      <th>1987</th>\n",
       "      <td>mobile multimedia slow to catch on there is no...</td>\n",
       "      <td>smart search lets art fans browse if you don t...</td>\n",
       "    </tr>\n",
       "    <tr>\n",
       "      <th>2148</th>\n",
       "      <td>us ahold suppliers face charges us prosecutors...</td>\n",
       "      <td>eminem beats elvis to number one rapper eminem...</td>\n",
       "    </tr>\n",
       "    <tr>\n",
       "      <th>2639</th>\n",
       "      <td>hotspot users gain free net calls people using...</td>\n",
       "      <td>venezuela identifies  idle  farms venezuelan a...</td>\n",
       "    </tr>\n",
       "    <tr>\n",
       "      <th>778</th>\n",
       "      <td>brown outlines third term vision gordon brown ...</td>\n",
       "      <td>baa support ahead of court battle uk airport o...</td>\n",
       "    </tr>\n",
       "  </tbody>\n",
       "</table>\n",
       "</div>"
      ],
      "text/plain": [
       "                                                  text1  \\\n",
       "1738  civil servants in strike ballot the uk s bigge...   \n",
       "1987  mobile multimedia slow to catch on there is no...   \n",
       "2148  us ahold suppliers face charges us prosecutors...   \n",
       "2639  hotspot users gain free net calls people using...   \n",
       "778   brown outlines third term vision gordon brown ...   \n",
       "\n",
       "                                                  text2  \n",
       "1738  henson stakes early lions claim the six nation...  \n",
       "1987  smart search lets art fans browse if you don t...  \n",
       "2148  eminem beats elvis to number one rapper eminem...  \n",
       "2639  venezuela identifies  idle  farms venezuelan a...  \n",
       "778   baa support ahead of court battle uk airport o...  "
      ]
     },
     "execution_count": 16,
     "metadata": {},
     "output_type": "execute_result"
    }
   ],
   "source": [
    "df['text2']=df['text2'].apply(chat_word_treat)\n",
    "df.sample(5)"
   ]
  },
  {
   "cell_type": "code",
   "execution_count": 17,
   "metadata": {
    "colab": {
     "base_uri": "https://localhost:8080/",
     "height": 206
    },
    "id": "5BAXkjxjGD-1",
    "outputId": "75b43ed3-0ae3-4923-c22d-3cb23a5b13f1",
    "scrolled": true
   },
   "outputs": [
    {
     "data": {
      "text/html": [
       "<div>\n",
       "<style scoped>\n",
       "    .dataframe tbody tr th:only-of-type {\n",
       "        vertical-align: middle;\n",
       "    }\n",
       "\n",
       "    .dataframe tbody tr th {\n",
       "        vertical-align: top;\n",
       "    }\n",
       "\n",
       "    .dataframe thead th {\n",
       "        text-align: right;\n",
       "    }\n",
       "</style>\n",
       "<table border=\"1\" class=\"dataframe\">\n",
       "  <thead>\n",
       "    <tr style=\"text-align: right;\">\n",
       "      <th></th>\n",
       "      <th>text1</th>\n",
       "      <th>text2</th>\n",
       "    </tr>\n",
       "  </thead>\n",
       "  <tbody>\n",
       "    <tr>\n",
       "      <th>2990</th>\n",
       "      <td>millions to miss out on the net by 2025  40% o...</td>\n",
       "      <td>rocker doherty in on-stage fight rock singer p...</td>\n",
       "    </tr>\n",
       "    <tr>\n",
       "      <th>836</th>\n",
       "      <td>bond game fails to shake or stir for gaming fa...</td>\n",
       "      <td>amnesty chief laments war failure the lack of ...</td>\n",
       "    </tr>\n",
       "    <tr>\n",
       "      <th>1341</th>\n",
       "      <td>microsoft takes on desktop search microsoft ha...</td>\n",
       "      <td>wales  must learn health lessons  the new heal...</td>\n",
       "    </tr>\n",
       "    <tr>\n",
       "      <th>767</th>\n",
       "      <td>parties build up poll war chests the labour pa...</td>\n",
       "      <td>us ahold suppliers face charges us prosecutors...</td>\n",
       "    </tr>\n",
       "    <tr>\n",
       "      <th>602</th>\n",
       "      <td>saudi ncci s shares soar shares in saudi arabi...</td>\n",
       "      <td>scots smoking ban details set out smoke-free a...</td>\n",
       "    </tr>\n",
       "  </tbody>\n",
       "</table>\n",
       "</div>"
      ],
      "text/plain": [
       "                                                  text1  \\\n",
       "2990  millions to miss out on the net by 2025  40% o...   \n",
       "836   bond game fails to shake or stir for gaming fa...   \n",
       "1341  microsoft takes on desktop search microsoft ha...   \n",
       "767   parties build up poll war chests the labour pa...   \n",
       "602   saudi ncci s shares soar shares in saudi arabi...   \n",
       "\n",
       "                                                  text2  \n",
       "2990  rocker doherty in on-stage fight rock singer p...  \n",
       "836   amnesty chief laments war failure the lack of ...  \n",
       "1341  wales  must learn health lessons  the new heal...  \n",
       "767   us ahold suppliers face charges us prosecutors...  \n",
       "602   scots smoking ban details set out smoke-free a...  "
      ]
     },
     "execution_count": 17,
     "metadata": {},
     "output_type": "execute_result"
    }
   ],
   "source": [
    "df['text1']=df['text1'].str.lower()\n",
    "df.sample(5)"
   ]
  },
  {
   "cell_type": "code",
   "execution_count": 18,
   "metadata": {
    "colab": {
     "base_uri": "https://localhost:8080/",
     "height": 206
    },
    "id": "4IXcL_V2GD-1",
    "outputId": "1a33735a-7e46-4d08-d17a-6972f847cfaa"
   },
   "outputs": [
    {
     "data": {
      "text/html": [
       "<div>\n",
       "<style scoped>\n",
       "    .dataframe tbody tr th:only-of-type {\n",
       "        vertical-align: middle;\n",
       "    }\n",
       "\n",
       "    .dataframe tbody tr th {\n",
       "        vertical-align: top;\n",
       "    }\n",
       "\n",
       "    .dataframe thead th {\n",
       "        text-align: right;\n",
       "    }\n",
       "</style>\n",
       "<table border=\"1\" class=\"dataframe\">\n",
       "  <thead>\n",
       "    <tr style=\"text-align: right;\">\n",
       "      <th></th>\n",
       "      <th>text1</th>\n",
       "      <th>text2</th>\n",
       "    </tr>\n",
       "  </thead>\n",
       "  <tbody>\n",
       "    <tr>\n",
       "      <th>243</th>\n",
       "      <td>blind student  hears in colour  a blind studen...</td>\n",
       "      <td>itunes now selling band aid song ipod owners c...</td>\n",
       "    </tr>\n",
       "    <tr>\n",
       "      <th>2488</th>\n",
       "      <td>baby becomes new oscar favourite clint eastwoo...</td>\n",
       "      <td>chancellor rallies labour voters gordon brown ...</td>\n",
       "    </tr>\n",
       "    <tr>\n",
       "      <th>2212</th>\n",
       "      <td>bush website blocked outside us surfers outsid...</td>\n",
       "      <td>ocean s twelve raids box office ocean s twelve...</td>\n",
       "    </tr>\n",
       "    <tr>\n",
       "      <th>1860</th>\n",
       "      <td>football manager scores big time for the past ...</td>\n",
       "      <td>kenyan school turns to handhelds at the mbita ...</td>\n",
       "    </tr>\n",
       "    <tr>\n",
       "      <th>1964</th>\n",
       "      <td>ebbers denies worldcom fraud former worldcom c...</td>\n",
       "      <td>at a glance: tory health checks the uk  opposi...</td>\n",
       "    </tr>\n",
       "  </tbody>\n",
       "</table>\n",
       "</div>"
      ],
      "text/plain": [
       "                                                  text1  \\\n",
       "243   blind student  hears in colour  a blind studen...   \n",
       "2488  baby becomes new oscar favourite clint eastwoo...   \n",
       "2212  bush website blocked outside us surfers outsid...   \n",
       "1860  football manager scores big time for the past ...   \n",
       "1964  ebbers denies worldcom fraud former worldcom c...   \n",
       "\n",
       "                                                  text2  \n",
       "243   itunes now selling band aid song ipod owners c...  \n",
       "2488  chancellor rallies labour voters gordon brown ...  \n",
       "2212  ocean s twelve raids box office ocean s twelve...  \n",
       "1860  kenyan school turns to handhelds at the mbita ...  \n",
       "1964  at a glance: tory health checks the uk  opposi...  "
      ]
     },
     "execution_count": 18,
     "metadata": {},
     "output_type": "execute_result"
    }
   ],
   "source": [
    "df['text2']=df['text2'].str.lower()\n",
    "df.sample(5)"
   ]
  },
  {
   "cell_type": "code",
   "execution_count": 19,
   "metadata": {
    "id": "AqmpN_rIGD-1"
   },
   "outputs": [],
   "source": [
    "from bs4 import BeautifulSoup"
   ]
  },
  {
   "cell_type": "code",
   "execution_count": 20,
   "metadata": {
    "id": "U7e98IqWGD-2"
   },
   "outputs": [],
   "source": [
    "def remove_htmlTags(text):\n",
    "    s=BeautifulSoup(text,'html.parser')\n",
    "    return s.get_text()"
   ]
  },
  {
   "cell_type": "code",
   "execution_count": 21,
   "metadata": {
    "colab": {
     "base_uri": "https://localhost:8080/",
     "height": 126
    },
    "id": "ZYYn8NsOGD-2",
    "outputId": "429700b5-f52f-4c29-8ffd-b06df81a99cf"
   },
   "outputs": [
    {
     "data": {
      "text/plain": [
       "'rap boss arrested over drug find rap mogul marion  suge  knight has been arrested for violating his parole after he was allegedly found with marijuana.  he was arrested in barstow  california  on saturday following an alleged traffic offence. he is expected to be transferred to a state prison while a decision is made on whether he should be released. mr knight  founder of death row records  served a 10-month jail term in 2004 for punching a man while on parole for an assault conviction. police said mr knight was stopped on saturday after performing an illegal u-turn and a search of his car allegedly found marijuana.  he is also accused of not having insurance. a 18-year-old woman in the car was arrested for providing false information and having a fake id card. she was later released. it was his second alleged violation  having previously served half of a nine-year sentence for breaking the terms of his parole. mr knight  39  was jailed in october 1996 following his involvement in a fight with a rival gang just hours before rapper tupac shakur was killed in a las vegas drive-by shooting. he was driving shakur s car at the time and was shot in the head. at the time he was on probation for assaulting two musicians. mr knight  a former bodyguard  set up death row records in the early 1990s with shakur and dr dre among his protegees. but the label has always been dogged by allegations it supports gang culture and fuels the east and west coast rap rivalry.'"
      ]
     },
     "execution_count": 21,
     "metadata": {},
     "output_type": "execute_result"
    }
   ],
   "source": [
    "df['text1']=df['text1'].apply(remove_htmlTags)\n",
    "df['text1'].iloc[1]"
   ]
  },
  {
   "cell_type": "code",
   "execution_count": 22,
   "metadata": {
    "colab": {
     "base_uri": "https://localhost:8080/",
     "height": 126
    },
    "id": "uKEQsS3kGD-2",
    "outputId": "5d877d44-54ba-4835-ade2-908e59d00818"
   },
   "outputs": [
    {
     "data": {
      "text/plain": [
       "'amnesty chief laments war failure the lack of public outrage about the war on terror is a powerful indictment of the failure of human rights groups  amnesty international s chief has said.  in a lecture at the london school of economics  irene khan said human rights had been flouted in the name of security since 11 september  2001. she said the human rights movement had to use simpler language both to prevent scepticism and spread a moral message. and it had to fight poverty  not just focus on political rights for elites.  ms khan highlighted detentions without trial  including those at the us camp at guantanamo bay in cuba  and the abuse of prisoners as evidence of increasing human rights problems.  what s a new challenge is the way in which this age-old debate on security and human rights has been translated into the language of war   she said.  by using the language of war  human rights are being sidelined because we know human rights do not apply in times of war.  ms khan said such breaches were infectious and were now seen in almost very major country in the world.  the human rights movement faces a crisis of faith in the value of human rights   she said. that was accompanied by a crisis of governance  where the united nations system did not seem able to hold countries to account.  the amnesty secretary-general said a growing gap between the perceived influence of human rights group and what they could actually achieve was fuelling scepticism.  public passivity on the war against terror is the single most powerful indictment on the failures of human rights groups   she said. ms khan said the movement had failed to mobilise public outrage about what was happening to the human rights system. there needed to be a drive to use simpler language  talking about the basic morality of the issues rather than the complexity of legal processes. such efforts could make the issues more relevant to people across the world  she said.  the human rights groups also had to recognise there were new groups which had to be tackled in new ways as power dripped away from state governments. al-qaeda  for example  was not going to be impressed by a traditional amnesty letter writing campaign. more also needed to be done to develop a human rights framework for international business corporations. amnesty international members voted in 2001 to extend the organisation s work from political and civil rights to cover social and economic rights too. ms khan said the human rights movement would make itself irrelevant if it turned away from the suffering caused by economic strife.  we would be an elitist bunch working for the elites  for those who cannot read the newspaper of their choice rather than those who cannot read   she said. despite her concerns  ms khan dubbed herself a  hope-monger   saying she was confident the passions of the human rights movement could overcome the new challenges.'"
      ]
     },
     "execution_count": 22,
     "metadata": {},
     "output_type": "execute_result"
    }
   ],
   "source": [
    "df['text2']=df['text2'].apply(remove_htmlTags)\n",
    "df['text2'].iloc[1]"
   ]
  },
  {
   "cell_type": "code",
   "execution_count": 23,
   "metadata": {
    "id": "Rk4Bugw7GD-2"
   },
   "outputs": [],
   "source": [
    "import string"
   ]
  },
  {
   "cell_type": "code",
   "execution_count": 24,
   "metadata": {
    "id": "3YQ4FyLcGD-3"
   },
   "outputs": [],
   "source": [
    "def remove_punctuation(text):\n",
    "    for punctuation in string.punctuation:\n",
    "        text=text.replace(punctuation,\"\")\n",
    "    return text"
   ]
  },
  {
   "cell_type": "code",
   "execution_count": 25,
   "metadata": {
    "colab": {
     "base_uri": "https://localhost:8080/",
     "height": 206
    },
    "id": "IWQEVsPjGD-3",
    "outputId": "c58c7e3d-5aae-4d9c-d6ea-e76335542159"
   },
   "outputs": [
    {
     "data": {
      "text/html": [
       "<div>\n",
       "<style scoped>\n",
       "    .dataframe tbody tr th:only-of-type {\n",
       "        vertical-align: middle;\n",
       "    }\n",
       "\n",
       "    .dataframe tbody tr th {\n",
       "        vertical-align: top;\n",
       "    }\n",
       "\n",
       "    .dataframe thead th {\n",
       "        text-align: right;\n",
       "    }\n",
       "</style>\n",
       "<table border=\"1\" class=\"dataframe\">\n",
       "  <thead>\n",
       "    <tr style=\"text-align: right;\">\n",
       "      <th></th>\n",
       "      <th>text1</th>\n",
       "      <th>text2</th>\n",
       "    </tr>\n",
       "  </thead>\n",
       "  <tbody>\n",
       "    <tr>\n",
       "      <th>526</th>\n",
       "      <td>row threatens hendrix museum plan proposals to...</td>\n",
       "      <td>fbi agent colludes with analyst a former fbi a...</td>\n",
       "    </tr>\n",
       "    <tr>\n",
       "      <th>2841</th>\n",
       "      <td>broadband steams ahead in the us more and more...</td>\n",
       "      <td>jp morgan admits us slavery links thousands of...</td>\n",
       "    </tr>\n",
       "    <tr>\n",
       "      <th>1493</th>\n",
       "      <td>newcastle to join morientes race newcastle hav...</td>\n",
       "      <td>band aid retains number one spot the charity s...</td>\n",
       "    </tr>\n",
       "    <tr>\n",
       "      <th>1486</th>\n",
       "      <td>downloads enter us singles chart digital music...</td>\n",
       "      <td>japan bank shares up on link talk shares of su...</td>\n",
       "    </tr>\n",
       "    <tr>\n",
       "      <th>2981</th>\n",
       "      <td>india and russia in energy talks india and rus...</td>\n",
       "      <td>emi shares hit by profit warning shares in mus...</td>\n",
       "    </tr>\n",
       "  </tbody>\n",
       "</table>\n",
       "</div>"
      ],
      "text/plain": [
       "                                                  text1  \\\n",
       "526   row threatens hendrix museum plan proposals to...   \n",
       "2841  broadband steams ahead in the us more and more...   \n",
       "1493  newcastle to join morientes race newcastle hav...   \n",
       "1486  downloads enter us singles chart digital music...   \n",
       "2981  india and russia in energy talks india and rus...   \n",
       "\n",
       "                                                  text2  \n",
       "526   fbi agent colludes with analyst a former fbi a...  \n",
       "2841  jp morgan admits us slavery links thousands of...  \n",
       "1493  band aid retains number one spot the charity s...  \n",
       "1486  japan bank shares up on link talk shares of su...  \n",
       "2981  emi shares hit by profit warning shares in mus...  "
      ]
     },
     "execution_count": 25,
     "metadata": {},
     "output_type": "execute_result"
    }
   ],
   "source": [
    "df['text1']=df['text1'].apply(remove_punctuation)\n",
    "df.sample(5)"
   ]
  },
  {
   "cell_type": "code",
   "execution_count": 26,
   "metadata": {
    "colab": {
     "base_uri": "https://localhost:8080/",
     "height": 206
    },
    "id": "mNm-qY8uGD-3",
    "outputId": "51733d4e-24f9-4a47-d08d-97215acca5fd"
   },
   "outputs": [
    {
     "data": {
      "text/html": [
       "<div>\n",
       "<style scoped>\n",
       "    .dataframe tbody tr th:only-of-type {\n",
       "        vertical-align: middle;\n",
       "    }\n",
       "\n",
       "    .dataframe tbody tr th {\n",
       "        vertical-align: top;\n",
       "    }\n",
       "\n",
       "    .dataframe thead th {\n",
       "        text-align: right;\n",
       "    }\n",
       "</style>\n",
       "<table border=\"1\" class=\"dataframe\">\n",
       "  <thead>\n",
       "    <tr style=\"text-align: right;\">\n",
       "      <th></th>\n",
       "      <th>text1</th>\n",
       "      <th>text2</th>\n",
       "    </tr>\n",
       "  </thead>\n",
       "  <tbody>\n",
       "    <tr>\n",
       "      <th>1709</th>\n",
       "      <td>kinnock to urge reform in lords neil kinnock h...</td>\n",
       "      <td>celebrities get their skates on former england...</td>\n",
       "    </tr>\n",
       "    <tr>\n",
       "      <th>247</th>\n",
       "      <td>arsenal  may seek full share listing  arsenal ...</td>\n",
       "      <td>retail sales show festive fervour uk retail sa...</td>\n",
       "    </tr>\n",
       "    <tr>\n",
       "      <th>1877</th>\n",
       "      <td>eu china arms ban  to be lifted  the eu embarg...</td>\n",
       "      <td>blair  said he would stand down  tony blair pr...</td>\n",
       "    </tr>\n",
       "    <tr>\n",
       "      <th>568</th>\n",
       "      <td>muslims discuss election concerns issues that ...</td>\n",
       "      <td>nadal marches on in mexico rafael nadal contin...</td>\n",
       "    </tr>\n",
       "    <tr>\n",
       "      <th>1868</th>\n",
       "      <td>nasdaq planning 100m share sale the owner of t...</td>\n",
       "      <td>minister digs in over doping row the belgian s...</td>\n",
       "    </tr>\n",
       "  </tbody>\n",
       "</table>\n",
       "</div>"
      ],
      "text/plain": [
       "                                                  text1  \\\n",
       "1709  kinnock to urge reform in lords neil kinnock h...   \n",
       "247   arsenal  may seek full share listing  arsenal ...   \n",
       "1877  eu china arms ban  to be lifted  the eu embarg...   \n",
       "568   muslims discuss election concerns issues that ...   \n",
       "1868  nasdaq planning 100m share sale the owner of t...   \n",
       "\n",
       "                                                  text2  \n",
       "1709  celebrities get their skates on former england...  \n",
       "247   retail sales show festive fervour uk retail sa...  \n",
       "1877  blair  said he would stand down  tony blair pr...  \n",
       "568   nadal marches on in mexico rafael nadal contin...  \n",
       "1868  minister digs in over doping row the belgian s...  "
      ]
     },
     "execution_count": 26,
     "metadata": {},
     "output_type": "execute_result"
    }
   ],
   "source": [
    "df['text2']=df['text2'].apply(remove_punctuation)\n",
    "df.sample(5)"
   ]
  },
  {
   "cell_type": "code",
   "execution_count": 27,
   "metadata": {
    "colab": {
     "base_uri": "https://localhost:8080/"
    },
    "id": "O5Km4PfEGD-3",
    "outputId": "280dbc4b-dab8-43e3-a38d-88de51191a77"
   },
   "outputs": [
    {
     "data": {
      "text/plain": [
       "count                                                  2999\n",
       "unique                                                 1277\n",
       "top       moody joins up with england lewis moody has fl...\n",
       "freq                                                      9\n",
       "Name: text1, dtype: object"
      ]
     },
     "execution_count": 27,
     "metadata": {},
     "output_type": "execute_result"
    }
   ],
   "source": [
    "df['text1'].describe()"
   ]
  },
  {
   "cell_type": "code",
   "execution_count": 28,
   "metadata": {
    "colab": {
     "base_uri": "https://localhost:8080/"
    },
    "id": "NJXZY0qZGS72",
    "outputId": "b078713a-aa24-4463-c203-f6e813ed1a98"
   },
   "outputs": [
    {
     "data": {
      "text/plain": [
       "count                                                  2999\n",
       "unique                                                 1256\n",
       "top       edwards tips idowu for euro gold world outdoor...\n",
       "freq                                                     12\n",
       "Name: text2, dtype: object"
      ]
     },
     "execution_count": 28,
     "metadata": {},
     "output_type": "execute_result"
    }
   ],
   "source": [
    "df['text2'].describe()"
   ]
  },
  {
   "cell_type": "code",
   "execution_count": null,
   "metadata": {
    "id": "H0yM2rrMzqc7"
   },
   "outputs": [],
   "source": []
  },
  {
   "cell_type": "markdown",
   "metadata": {
    "id": "JY7URWDbzuh4"
   },
   "source": [
    "# **Using TF-IDF for Text Representation**"
   ]
  },
  {
   "cell_type": "code",
   "execution_count": 29,
   "metadata": {
    "id": "75Pd0MMySqrh"
   },
   "outputs": [],
   "source": [
    "from sklearn.feature_extraction.text import TfidfVectorizer"
   ]
  },
  {
   "cell_type": "code",
   "execution_count": 30,
   "metadata": {
    "id": "-oUI5qH2dy8X"
   },
   "outputs": [],
   "source": [
    "tfidf=TfidfVectorizer(stop_words='english')"
   ]
  },
  {
   "cell_type": "code",
   "execution_count": 31,
   "metadata": {
    "id": "Fn8pwbKvt4B3"
   },
   "outputs": [],
   "source": [
    "text_data=df.text1.astype(str)+\" \"+df.text2.astype(str) # Combine text1 and text2 into a single column"
   ]
  },
  {
   "cell_type": "code",
   "execution_count": 32,
   "metadata": {
    "id": "cF_mxVy2t4El"
   },
   "outputs": [],
   "source": [
    "tfidf_matrix=tfidf.fit_transform(text_data)\n",
    "\n",
    "# Extract vectors for each text from the tfidf_matrix\n",
    "vect_text1=tfidf.transform(df.text1).toarray()\n",
    "vect_text2=tfidf.transform(df.text2).toarray()"
   ]
  },
  {
   "cell_type": "code",
   "execution_count": 33,
   "metadata": {
    "colab": {
     "base_uri": "https://localhost:8080/",
     "height": 423
    },
    "id": "U02NzFdcotvX",
    "outputId": "79551a86-1242-40c8-c90c-f4ec27c1052b"
   },
   "outputs": [
    {
     "data": {
      "text/html": [
       "<div>\n",
       "<style scoped>\n",
       "    .dataframe tbody tr th:only-of-type {\n",
       "        vertical-align: middle;\n",
       "    }\n",
       "\n",
       "    .dataframe tbody tr th {\n",
       "        vertical-align: top;\n",
       "    }\n",
       "\n",
       "    .dataframe thead th {\n",
       "        text-align: right;\n",
       "    }\n",
       "</style>\n",
       "<table border=\"1\" class=\"dataframe\">\n",
       "  <thead>\n",
       "    <tr style=\"text-align: right;\">\n",
       "      <th></th>\n",
       "      <th>text1</th>\n",
       "      <th>text2</th>\n",
       "      <th>text1_vect</th>\n",
       "      <th>text2_vect</th>\n",
       "      <th>similarity</th>\n",
       "    </tr>\n",
       "  </thead>\n",
       "  <tbody>\n",
       "    <tr>\n",
       "      <th>0</th>\n",
       "      <td>broadband challenges tv viewing the number of ...</td>\n",
       "      <td>gardener wins double in glasgow britain s jaso...</td>\n",
       "      <td>[[0.0, 0.0, 0.0, 0.0, 0.0, 0.0, 0.0, 0.0, 0.0,...</td>\n",
       "      <td>[[0.0, 0.0, 0.0, 0.0, 0.0, 0.0, 0.0, 0.0, 0.0,...</td>\n",
       "      <td>0.050569</td>\n",
       "    </tr>\n",
       "    <tr>\n",
       "      <th>1</th>\n",
       "      <td>rap boss arrested over drug find rap mogul mar...</td>\n",
       "      <td>amnesty chief laments war failure the lack of ...</td>\n",
       "      <td>[[0.0, 0.0, 0.0, 0.0, 0.0, 0.0, 0.0, 0.0, 0.0,...</td>\n",
       "      <td>[[0.0, 0.0, 0.0, 0.0, 0.0, 0.0, 0.0, 0.0, 0.0,...</td>\n",
       "      <td>0.003627</td>\n",
       "    </tr>\n",
       "    <tr>\n",
       "      <th>2</th>\n",
       "      <td>player burnout worries robinson england coach ...</td>\n",
       "      <td>hanks greeted at wintry premiere hollywood sta...</td>\n",
       "      <td>[[0.0, 0.0, 0.0, 0.0, 0.0, 0.0, 0.0, 0.0, 0.0,...</td>\n",
       "      <td>[[0.0, 0.0, 0.0, 0.0, 0.0, 0.0, 0.0, 0.0, 0.0,...</td>\n",
       "      <td>0.005480</td>\n",
       "    </tr>\n",
       "    <tr>\n",
       "      <th>3</th>\n",
       "      <td>hearts of oak 32 cotonsport hearts of oak set ...</td>\n",
       "      <td>redford s vision of sundance despite sporting ...</td>\n",
       "      <td>[[0.0, 0.0, 0.0, 0.0, 0.0, 0.0, 0.0, 0.0, 0.0,...</td>\n",
       "      <td>[[0.0, 0.019261698099293255, 0.0, 0.0, 0.0, 0....</td>\n",
       "      <td>0.010675</td>\n",
       "    </tr>\n",
       "    <tr>\n",
       "      <th>4</th>\n",
       "      <td>sir paul rocks super bowl crowds sir paul mcca...</td>\n",
       "      <td>mauresmo opens with victory in la amelie maure...</td>\n",
       "      <td>[[0.0, 0.04063327989651423, 0.0, 0.0, 0.0, 0.0...</td>\n",
       "      <td>[[0.0, 0.0, 0.0, 0.0, 0.0, 0.0, 0.0, 0.0, 0.0,...</td>\n",
       "      <td>0.012677</td>\n",
       "    </tr>\n",
       "    <tr>\n",
       "      <th>...</th>\n",
       "      <td>...</td>\n",
       "      <td>...</td>\n",
       "      <td>...</td>\n",
       "      <td>...</td>\n",
       "      <td>...</td>\n",
       "    </tr>\n",
       "    <tr>\n",
       "      <th>2995</th>\n",
       "      <td>uk directors guild nominees named martin scors...</td>\n",
       "      <td>steel firm  to cut  45 000 jobs mittal steel  ...</td>\n",
       "      <td>[[0.0, 0.0, 0.0, 0.0, 0.0, 0.0, 0.0, 0.0, 0.0,...</td>\n",
       "      <td>[[0.0, 0.1511419087602039, 0.0, 0.0, 0.0, 0.0,...</td>\n",
       "      <td>0.001837</td>\n",
       "    </tr>\n",
       "    <tr>\n",
       "      <th>2996</th>\n",
       "      <td>u2 to play at grammy awards show irish rock ba...</td>\n",
       "      <td>israel looks to us for bank chief israel has a...</td>\n",
       "      <td>[[0.0, 0.0, 0.0, 0.0, 0.0, 0.0, 0.0, 0.0, 0.0,...</td>\n",
       "      <td>[[0.0, 0.0, 0.0, 0.0, 0.0, 0.0, 0.0, 0.0, 0.0,...</td>\n",
       "      <td>0.015687</td>\n",
       "    </tr>\n",
       "    <tr>\n",
       "      <th>2997</th>\n",
       "      <td>pountney handed ban and fine northampton coach...</td>\n",
       "      <td>india and iran in gas export deal india has si...</td>\n",
       "      <td>[[0.0, 0.03491958151862175, 0.0, 0.0, 0.0, 0.0...</td>\n",
       "      <td>[[0.0, 0.02570997059236551, 0.0, 0.0, 0.0, 0.0...</td>\n",
       "      <td>0.002321</td>\n",
       "    </tr>\n",
       "    <tr>\n",
       "      <th>2998</th>\n",
       "      <td>belle named  best scottish band  belle  sebast...</td>\n",
       "      <td>mido makes third apology ahmed  mido  hossam h...</td>\n",
       "      <td>[[0.0, 0.0, 0.0, 0.0, 0.0, 0.0, 0.0, 0.0, 0.0,...</td>\n",
       "      <td>[[0.0, 0.0, 0.0, 0.0, 0.0, 0.0, 0.0, 0.0, 0.0,...</td>\n",
       "      <td>0.009517</td>\n",
       "    </tr>\n",
       "    <tr>\n",
       "      <th>2999</th>\n",
       "      <td>criminal probe on citigroup deals traders at u...</td>\n",
       "      <td>former ni minister scott dies former northern ...</td>\n",
       "      <td>[[0.0, 0.0, 0.0, 0.0, 0.0, 0.0, 0.0, 0.0, 0.0,...</td>\n",
       "      <td>[[0.0, 0.0, 0.0, 0.0, 0.0, 0.0, 0.0, 0.0, 0.0,...</td>\n",
       "      <td>0.011343</td>\n",
       "    </tr>\n",
       "  </tbody>\n",
       "</table>\n",
       "<p>2999 rows × 5 columns</p>\n",
       "</div>"
      ],
      "text/plain": [
       "                                                  text1  \\\n",
       "0     broadband challenges tv viewing the number of ...   \n",
       "1     rap boss arrested over drug find rap mogul mar...   \n",
       "2     player burnout worries robinson england coach ...   \n",
       "3     hearts of oak 32 cotonsport hearts of oak set ...   \n",
       "4     sir paul rocks super bowl crowds sir paul mcca...   \n",
       "...                                                 ...   \n",
       "2995  uk directors guild nominees named martin scors...   \n",
       "2996  u2 to play at grammy awards show irish rock ba...   \n",
       "2997  pountney handed ban and fine northampton coach...   \n",
       "2998  belle named  best scottish band  belle  sebast...   \n",
       "2999  criminal probe on citigroup deals traders at u...   \n",
       "\n",
       "                                                  text2  \\\n",
       "0     gardener wins double in glasgow britain s jaso...   \n",
       "1     amnesty chief laments war failure the lack of ...   \n",
       "2     hanks greeted at wintry premiere hollywood sta...   \n",
       "3     redford s vision of sundance despite sporting ...   \n",
       "4     mauresmo opens with victory in la amelie maure...   \n",
       "...                                                 ...   \n",
       "2995  steel firm  to cut  45 000 jobs mittal steel  ...   \n",
       "2996  israel looks to us for bank chief israel has a...   \n",
       "2997  india and iran in gas export deal india has si...   \n",
       "2998  mido makes third apology ahmed  mido  hossam h...   \n",
       "2999  former ni minister scott dies former northern ...   \n",
       "\n",
       "                                             text1_vect  \\\n",
       "0     [[0.0, 0.0, 0.0, 0.0, 0.0, 0.0, 0.0, 0.0, 0.0,...   \n",
       "1     [[0.0, 0.0, 0.0, 0.0, 0.0, 0.0, 0.0, 0.0, 0.0,...   \n",
       "2     [[0.0, 0.0, 0.0, 0.0, 0.0, 0.0, 0.0, 0.0, 0.0,...   \n",
       "3     [[0.0, 0.0, 0.0, 0.0, 0.0, 0.0, 0.0, 0.0, 0.0,...   \n",
       "4     [[0.0, 0.04063327989651423, 0.0, 0.0, 0.0, 0.0...   \n",
       "...                                                 ...   \n",
       "2995  [[0.0, 0.0, 0.0, 0.0, 0.0, 0.0, 0.0, 0.0, 0.0,...   \n",
       "2996  [[0.0, 0.0, 0.0, 0.0, 0.0, 0.0, 0.0, 0.0, 0.0,...   \n",
       "2997  [[0.0, 0.03491958151862175, 0.0, 0.0, 0.0, 0.0...   \n",
       "2998  [[0.0, 0.0, 0.0, 0.0, 0.0, 0.0, 0.0, 0.0, 0.0,...   \n",
       "2999  [[0.0, 0.0, 0.0, 0.0, 0.0, 0.0, 0.0, 0.0, 0.0,...   \n",
       "\n",
       "                                             text2_vect  similarity  \n",
       "0     [[0.0, 0.0, 0.0, 0.0, 0.0, 0.0, 0.0, 0.0, 0.0,...    0.050569  \n",
       "1     [[0.0, 0.0, 0.0, 0.0, 0.0, 0.0, 0.0, 0.0, 0.0,...    0.003627  \n",
       "2     [[0.0, 0.0, 0.0, 0.0, 0.0, 0.0, 0.0, 0.0, 0.0,...    0.005480  \n",
       "3     [[0.0, 0.019261698099293255, 0.0, 0.0, 0.0, 0....    0.010675  \n",
       "4     [[0.0, 0.0, 0.0, 0.0, 0.0, 0.0, 0.0, 0.0, 0.0,...    0.012677  \n",
       "...                                                 ...         ...  \n",
       "2995  [[0.0, 0.1511419087602039, 0.0, 0.0, 0.0, 0.0,...    0.001837  \n",
       "2996  [[0.0, 0.0, 0.0, 0.0, 0.0, 0.0, 0.0, 0.0, 0.0,...    0.015687  \n",
       "2997  [[0.0, 0.02570997059236551, 0.0, 0.0, 0.0, 0.0...    0.002321  \n",
       "2998  [[0.0, 0.0, 0.0, 0.0, 0.0, 0.0, 0.0, 0.0, 0.0,...    0.009517  \n",
       "2999  [[0.0, 0.0, 0.0, 0.0, 0.0, 0.0, 0.0, 0.0, 0.0,...    0.011343  \n",
       "\n",
       "[2999 rows x 5 columns]"
      ]
     },
     "execution_count": 33,
     "metadata": {},
     "output_type": "execute_result"
    }
   ],
   "source": [
    "from sklearn.metrics.pairwise import cosine_similarity\n",
    "\n",
    "cosine_similarities=[]\n",
    "vect1=[]\n",
    "vect2=[]\n",
    "for i in range(len(df)):\n",
    "    vector1=vect_text1[i].reshape(1, -1)\n",
    "    vector2=vect_text2[i].reshape(1, -1)\n",
    "    similarity=cosine_similarity(vector1, vector2)[0][0]\n",
    "    vect1.append(vector1)\n",
    "    vect2.append(vector2)\n",
    "    cosine_similarities.append(similarity)\n",
    "\n",
    "# Add the cosine similarity column to the DataFrame\n",
    "df['text1_vect']=vect1\n",
    "df['text2_vect']=vect2\n",
    "df['similarity']=cosine_similarities\n",
    "df"
   ]
  },
  {
   "cell_type": "code",
   "execution_count": 34,
   "metadata": {
    "colab": {
     "base_uri": "https://localhost:8080/",
     "height": 206
    },
    "id": "6sJC9SfB0NOy",
    "outputId": "edf3e55e-2433-4c1a-8c71-e29f9450c50e"
   },
   "outputs": [
    {
     "data": {
      "text/html": [
       "<div>\n",
       "<style scoped>\n",
       "    .dataframe tbody tr th:only-of-type {\n",
       "        vertical-align: middle;\n",
       "    }\n",
       "\n",
       "    .dataframe tbody tr th {\n",
       "        vertical-align: top;\n",
       "    }\n",
       "\n",
       "    .dataframe thead th {\n",
       "        text-align: right;\n",
       "    }\n",
       "</style>\n",
       "<table border=\"1\" class=\"dataframe\">\n",
       "  <thead>\n",
       "    <tr style=\"text-align: right;\">\n",
       "      <th></th>\n",
       "      <th>text1</th>\n",
       "      <th>text2</th>\n",
       "      <th>text1_vect</th>\n",
       "      <th>text2_vect</th>\n",
       "      <th>similarity</th>\n",
       "    </tr>\n",
       "  </thead>\n",
       "  <tbody>\n",
       "    <tr>\n",
       "      <th>975</th>\n",
       "      <td>teenagers to be allowed to be mps teenagers wi...</td>\n",
       "      <td>umaga ready for  fearsome  lions all blacks ca...</td>\n",
       "      <td>[[0.0, 0.0, 0.0, 0.0, 0.0, 0.0, 0.0, 0.0, 0.0,...</td>\n",
       "      <td>[[0.0, 0.0, 0.0, 0.0, 0.0, 0.0, 0.0, 0.0, 0.0,...</td>\n",
       "      <td>0.013742</td>\n",
       "    </tr>\n",
       "    <tr>\n",
       "      <th>2191</th>\n",
       "      <td>uk helps raped rwandan women britain is to giv...</td>\n",
       "      <td>venezuela identifies  idle  farms venezuelan a...</td>\n",
       "      <td>[[0.0, 0.054561479226786946, 0.0, 0.0, 0.0, 0....</td>\n",
       "      <td>[[0.0, 0.024220153438849493, 0.0, 0.0, 0.0, 0....</td>\n",
       "      <td>0.005482</td>\n",
       "    </tr>\n",
       "    <tr>\n",
       "      <th>670</th>\n",
       "      <td>chelsea hold arsenal a gripping game between a...</td>\n",
       "      <td>ferguson rues failure to cut gap boss sir alex...</td>\n",
       "      <td>[[0.0, 0.0, 0.0, 0.0, 0.0, 0.0, 0.0, 0.0, 0.0,...</td>\n",
       "      <td>[[0.0, 0.0, 0.0, 0.0, 0.0, 0.0, 0.0, 0.0, 0.0,...</td>\n",
       "      <td>0.143901</td>\n",
       "    </tr>\n",
       "    <tr>\n",
       "      <th>610</th>\n",
       "      <td>fockers retain film chart crown comedy meet th...</td>\n",
       "      <td>air passengers win new eu rights air passenger...</td>\n",
       "      <td>[[0.0, 0.0, 0.0, 0.0, 0.0, 0.0, 0.0, 0.0, 0.0,...</td>\n",
       "      <td>[[0.0, 0.0, 0.0, 0.0, 0.0, 0.0, 0.0, 0.0, 0.0,...</td>\n",
       "      <td>0.013178</td>\n",
       "    </tr>\n",
       "    <tr>\n",
       "      <th>2921</th>\n",
       "      <td>parmar ruled out of davis cup tie a knee injur...</td>\n",
       "      <td>share boost for feudhit reliance the board of ...</td>\n",
       "      <td>[[0.0, 0.0, 0.0, 0.0, 0.0, 0.0, 0.0, 0.0, 0.0,...</td>\n",
       "      <td>[[0.0, 0.0, 0.0, 0.0, 0.0, 0.0, 0.0, 0.0, 0.0,...</td>\n",
       "      <td>0.005086</td>\n",
       "    </tr>\n",
       "  </tbody>\n",
       "</table>\n",
       "</div>"
      ],
      "text/plain": [
       "                                                  text1  \\\n",
       "975   teenagers to be allowed to be mps teenagers wi...   \n",
       "2191  uk helps raped rwandan women britain is to giv...   \n",
       "670   chelsea hold arsenal a gripping game between a...   \n",
       "610   fockers retain film chart crown comedy meet th...   \n",
       "2921  parmar ruled out of davis cup tie a knee injur...   \n",
       "\n",
       "                                                  text2  \\\n",
       "975   umaga ready for  fearsome  lions all blacks ca...   \n",
       "2191  venezuela identifies  idle  farms venezuelan a...   \n",
       "670   ferguson rues failure to cut gap boss sir alex...   \n",
       "610   air passengers win new eu rights air passenger...   \n",
       "2921  share boost for feudhit reliance the board of ...   \n",
       "\n",
       "                                             text1_vect  \\\n",
       "975   [[0.0, 0.0, 0.0, 0.0, 0.0, 0.0, 0.0, 0.0, 0.0,...   \n",
       "2191  [[0.0, 0.054561479226786946, 0.0, 0.0, 0.0, 0....   \n",
       "670   [[0.0, 0.0, 0.0, 0.0, 0.0, 0.0, 0.0, 0.0, 0.0,...   \n",
       "610   [[0.0, 0.0, 0.0, 0.0, 0.0, 0.0, 0.0, 0.0, 0.0,...   \n",
       "2921  [[0.0, 0.0, 0.0, 0.0, 0.0, 0.0, 0.0, 0.0, 0.0,...   \n",
       "\n",
       "                                             text2_vect  similarity  \n",
       "975   [[0.0, 0.0, 0.0, 0.0, 0.0, 0.0, 0.0, 0.0, 0.0,...    0.013742  \n",
       "2191  [[0.0, 0.024220153438849493, 0.0, 0.0, 0.0, 0....    0.005482  \n",
       "670   [[0.0, 0.0, 0.0, 0.0, 0.0, 0.0, 0.0, 0.0, 0.0,...    0.143901  \n",
       "610   [[0.0, 0.0, 0.0, 0.0, 0.0, 0.0, 0.0, 0.0, 0.0,...    0.013178  \n",
       "2921  [[0.0, 0.0, 0.0, 0.0, 0.0, 0.0, 0.0, 0.0, 0.0,...    0.005086  "
      ]
     },
     "execution_count": 34,
     "metadata": {},
     "output_type": "execute_result"
    }
   ],
   "source": [
    "df.sample(5)"
   ]
  },
  {
   "cell_type": "code",
   "execution_count": null,
   "metadata": {
    "id": "ddio2gcM2nYw"
   },
   "outputs": [],
   "source": []
  },
  {
   "cell_type": "markdown",
   "metadata": {
    "id": "sEq9UZy00N12"
   },
   "source": [
    "### **Use below code for testing sample sentences**"
   ]
  },
  {
   "cell_type": "code",
   "execution_count": 35,
   "metadata": {
    "colab": {
     "base_uri": "https://localhost:8080/",
     "height": 143
    },
    "id": "5qJzr8xdpQTv",
    "outputId": "1ac933b7-ebdd-4a71-85d1-f4771e8c0e2b"
   },
   "outputs": [
    {
     "data": {
      "text/html": [
       "<div>\n",
       "<style scoped>\n",
       "    .dataframe tbody tr th:only-of-type {\n",
       "        vertical-align: middle;\n",
       "    }\n",
       "\n",
       "    .dataframe tbody tr th {\n",
       "        vertical-align: top;\n",
       "    }\n",
       "\n",
       "    .dataframe thead th {\n",
       "        text-align: right;\n",
       "    }\n",
       "</style>\n",
       "<table border=\"1\" class=\"dataframe\">\n",
       "  <thead>\n",
       "    <tr style=\"text-align: right;\">\n",
       "      <th></th>\n",
       "      <th>text1</th>\n",
       "      <th>text2</th>\n",
       "      <th>cosine_similarity</th>\n",
       "    </tr>\n",
       "  </thead>\n",
       "  <tbody>\n",
       "    <tr>\n",
       "      <th>0</th>\n",
       "      <td>I love natural language processing.</td>\n",
       "      <td>I live in Manhattan to study natural language ...</td>\n",
       "      <td>0.612372</td>\n",
       "    </tr>\n",
       "    <tr>\n",
       "      <th>1</th>\n",
       "      <td>Machine learning is so easy.</td>\n",
       "      <td>Machine learning is difficult</td>\n",
       "      <td>0.666667</td>\n",
       "    </tr>\n",
       "    <tr>\n",
       "      <th>2</th>\n",
       "      <td>The sun is shining brightly in the clear blue ...</td>\n",
       "      <td>Blue skies and sunshine create a beautiful day.</td>\n",
       "      <td>0.166667</td>\n",
       "    </tr>\n",
       "  </tbody>\n",
       "</table>\n",
       "</div>"
      ],
      "text/plain": [
       "                                               text1  \\\n",
       "0                I love natural language processing.   \n",
       "1                       Machine learning is so easy.   \n",
       "2  The sun is shining brightly in the clear blue ...   \n",
       "\n",
       "                                               text2  cosine_similarity  \n",
       "0  I live in Manhattan to study natural language ...           0.612372  \n",
       "1                      Machine learning is difficult           0.666667  \n",
       "2    Blue skies and sunshine create a beautiful day.           0.166667  "
      ]
     },
     "execution_count": 35,
     "metadata": {},
     "output_type": "execute_result"
    }
   ],
   "source": [
    "# Sample data\n",
    "data={'text1': [\"I love natural language processing.\", \"Machine learning is so easy.\",\"The sun is shining brightly in the clear blue sky.\"],\n",
    "        'text2': [\"I live in Manhattan to study natural language processing.\", \"Machine learning is difficult\",\"Blue skies and sunshine create a beautiful day.\"]}\n",
    "\n",
    "# Create a DataFrame\n",
    "df_sample=pd.DataFrame(data)\n",
    "\n",
    "texts_sample=df_sample['text1'].astype(str) + ' ' + df_sample['text2'].astype(str)\n",
    "tfidf_sample=TfidfVectorizer(stop_words='english')\n",
    "tfidf_matrix_sample=tfidf_sample.fit_transform(texts_sample)\n",
    "\n",
    "vectors_text1_sample=tfidf_sample.transform(df_sample['text1']).toarray()\n",
    "vectors_text2_sample=tfidf_sample.transform(df_sample['text2']).toarray()\n",
    "\n",
    "# Calculate cosine similarity for each pair of sentences\n",
    "similarities_sample=[]\n",
    "vect1=[]\n",
    "vect2=[]\n",
    "for i in range(len(df_sample)):\n",
    "    vector1=vectors_text1_sample[i].reshape(1, -1)\n",
    "    vector2=vectors_text2_sample[i].reshape(1, -1)\n",
    "    similarity=cosine_similarity(vector1, vector2)\n",
    "    similarities_sample.append(similarity[0][0])\n",
    "\n",
    "df_sample['cosine_similarity']=similarities_sample\n",
    "\n",
    "df_sample\n"
   ]
  },
  {
   "cell_type": "code",
   "execution_count": null,
   "metadata": {
    "id": "vpeolpIehUHF"
   },
   "outputs": [],
   "source": []
  },
  {
   "cell_type": "code",
   "execution_count": null,
   "metadata": {},
   "outputs": [],
   "source": []
  },
  {
   "cell_type": "code",
   "execution_count": null,
   "metadata": {},
   "outputs": [],
   "source": []
  },
  {
   "cell_type": "code",
   "execution_count": null,
   "metadata": {},
   "outputs": [],
   "source": []
  },
  {
   "cell_type": "markdown",
   "metadata": {},
   "source": [
    "## FOR TESTING WITH BENCHMARK DATASET"
   ]
  },
  {
   "cell_type": "code",
   "execution_count": 36,
   "metadata": {},
   "outputs": [
    {
     "data": {
      "text/html": [
       "<div>\n",
       "<style scoped>\n",
       "    .dataframe tbody tr th:only-of-type {\n",
       "        vertical-align: middle;\n",
       "    }\n",
       "\n",
       "    .dataframe tbody tr th {\n",
       "        vertical-align: top;\n",
       "    }\n",
       "\n",
       "    .dataframe thead th {\n",
       "        text-align: right;\n",
       "    }\n",
       "</style>\n",
       "<table border=\"1\" class=\"dataframe\">\n",
       "  <thead>\n",
       "    <tr style=\"text-align: right;\">\n",
       "      <th></th>\n",
       "      <th>Text1</th>\n",
       "      <th>Text2</th>\n",
       "      <th>benchmark_similarity_score</th>\n",
       "    </tr>\n",
       "  </thead>\n",
       "  <tbody>\n",
       "    <tr>\n",
       "      <th>0</th>\n",
       "      <td>A plane is taking off.</td>\n",
       "      <td>An air plane is taking off.</td>\n",
       "      <td>1.00</td>\n",
       "    </tr>\n",
       "    <tr>\n",
       "      <th>1</th>\n",
       "      <td>A man is playing a large flute.</td>\n",
       "      <td>A man is playing a flute.</td>\n",
       "      <td>0.76</td>\n",
       "    </tr>\n",
       "    <tr>\n",
       "      <th>2</th>\n",
       "      <td>A man is spreading shreded cheese on a pizza.</td>\n",
       "      <td>A man is spreading shredded cheese on an uncoo...</td>\n",
       "      <td>0.76</td>\n",
       "    </tr>\n",
       "    <tr>\n",
       "      <th>3</th>\n",
       "      <td>Three men are playing chess.</td>\n",
       "      <td>Two men are playing chess.</td>\n",
       "      <td>0.52</td>\n",
       "    </tr>\n",
       "    <tr>\n",
       "      <th>4</th>\n",
       "      <td>A man is playing the cello.</td>\n",
       "      <td>A man seated is playing the cello.</td>\n",
       "      <td>0.85</td>\n",
       "    </tr>\n",
       "  </tbody>\n",
       "</table>\n",
       "</div>"
      ],
      "text/plain": [
       "                                           Text1  \\\n",
       "0                         A plane is taking off.   \n",
       "1                A man is playing a large flute.   \n",
       "2  A man is spreading shreded cheese on a pizza.   \n",
       "3                   Three men are playing chess.   \n",
       "4                    A man is playing the cello.   \n",
       "\n",
       "                                               Text2  \\\n",
       "0                        An air plane is taking off.   \n",
       "1                          A man is playing a flute.   \n",
       "2  A man is spreading shredded cheese on an uncoo...   \n",
       "3                         Two men are playing chess.   \n",
       "4                 A man seated is playing the cello.   \n",
       "\n",
       "   benchmark_similarity_score  \n",
       "0                        1.00  \n",
       "1                        0.76  \n",
       "2                        0.76  \n",
       "3                        0.52  \n",
       "4                        0.85  "
      ]
     },
     "execution_count": 36,
     "metadata": {},
     "output_type": "execute_result"
    }
   ],
   "source": [
    "new_df=pd.read_excel('Benchmark_SemanticTextSimilarity_scores.xlsx')\n",
    "new_df.head(5)"
   ]
  },
  {
   "cell_type": "code",
   "execution_count": 37,
   "metadata": {},
   "outputs": [
    {
     "name": "stdout",
     "output_type": "stream",
     "text": [
      "<class 'pandas.core.frame.DataFrame'>\n",
      "RangeIndex: 6952 entries, 0 to 6951\n",
      "Data columns (total 3 columns):\n",
      " #   Column                      Non-Null Count  Dtype  \n",
      "---  ------                      --------------  -----  \n",
      " 0   Text1                       6952 non-null   object \n",
      " 1   Text2                       6947 non-null   object \n",
      " 2   benchmark_similarity_score  6952 non-null   float64\n",
      "dtypes: float64(1), object(2)\n",
      "memory usage: 163.1+ KB\n"
     ]
    }
   ],
   "source": [
    "new_df.info()"
   ]
  },
  {
   "cell_type": "code",
   "execution_count": 38,
   "metadata": {},
   "outputs": [
    {
     "data": {
      "text/plain": [
       "Text1                         0\n",
       "Text2                         5\n",
       "benchmark_similarity_score    0\n",
       "dtype: int64"
      ]
     },
     "execution_count": 38,
     "metadata": {},
     "output_type": "execute_result"
    }
   ],
   "source": [
    "new_df.isnull().sum()"
   ]
  },
  {
   "cell_type": "code",
   "execution_count": 39,
   "metadata": {},
   "outputs": [],
   "source": [
    "new_df.dropna(inplace=True)"
   ]
  },
  {
   "cell_type": "code",
   "execution_count": 40,
   "metadata": {},
   "outputs": [
    {
     "name": "stdout",
     "output_type": "stream",
     "text": [
      "<class 'pandas.core.frame.DataFrame'>\n",
      "Int64Index: 6947 entries, 0 to 6951\n",
      "Data columns (total 3 columns):\n",
      " #   Column                      Non-Null Count  Dtype  \n",
      "---  ------                      --------------  -----  \n",
      " 0   Text1                       6947 non-null   object \n",
      " 1   Text2                       6947 non-null   object \n",
      " 2   benchmark_similarity_score  6947 non-null   float64\n",
      "dtypes: float64(1), object(2)\n",
      "memory usage: 217.1+ KB\n"
     ]
    }
   ],
   "source": [
    "new_df.info()"
   ]
  },
  {
   "cell_type": "code",
   "execution_count": 41,
   "metadata": {},
   "outputs": [],
   "source": [
    "def chat_word_treat(text):\n",
    "    if isinstance(text, str):\n",
    "        l=[]\n",
    "        for w in text.split():\n",
    "            if w.upper() in chat_words:\n",
    "                l.append(chat_words[w.upper()])\n",
    "            else:\n",
    "                l.append(w)\n",
    "        return ' '.join(l)\n",
    "    else:\n",
    "        return \"\""
   ]
  },
  {
   "cell_type": "code",
   "execution_count": 42,
   "metadata": {},
   "outputs": [
    {
     "data": {
      "text/html": [
       "<div>\n",
       "<style scoped>\n",
       "    .dataframe tbody tr th:only-of-type {\n",
       "        vertical-align: middle;\n",
       "    }\n",
       "\n",
       "    .dataframe tbody tr th {\n",
       "        vertical-align: top;\n",
       "    }\n",
       "\n",
       "    .dataframe thead th {\n",
       "        text-align: right;\n",
       "    }\n",
       "</style>\n",
       "<table border=\"1\" class=\"dataframe\">\n",
       "  <thead>\n",
       "    <tr style=\"text-align: right;\">\n",
       "      <th></th>\n",
       "      <th>Text1</th>\n",
       "      <th>Text2</th>\n",
       "      <th>benchmark_similarity_score</th>\n",
       "      <th>text1</th>\n",
       "    </tr>\n",
       "  </thead>\n",
       "  <tbody>\n",
       "    <tr>\n",
       "      <th>0</th>\n",
       "      <td>A plane is taking off.</td>\n",
       "      <td>An air plane is taking off.</td>\n",
       "      <td>1.00</td>\n",
       "      <td>A plane is taking off.</td>\n",
       "    </tr>\n",
       "    <tr>\n",
       "      <th>1</th>\n",
       "      <td>A man is playing a large flute.</td>\n",
       "      <td>A man is playing a flute.</td>\n",
       "      <td>0.76</td>\n",
       "      <td>A man is playing a large flute.</td>\n",
       "    </tr>\n",
       "    <tr>\n",
       "      <th>2</th>\n",
       "      <td>A man is spreading shreded cheese on a pizza.</td>\n",
       "      <td>A man is spreading shredded cheese on an uncoo...</td>\n",
       "      <td>0.76</td>\n",
       "      <td>A man is spreading shreded cheese on a pizza.</td>\n",
       "    </tr>\n",
       "    <tr>\n",
       "      <th>3</th>\n",
       "      <td>Three men are playing chess.</td>\n",
       "      <td>Two men are playing chess.</td>\n",
       "      <td>0.52</td>\n",
       "      <td>Three men are playing chess.</td>\n",
       "    </tr>\n",
       "    <tr>\n",
       "      <th>4</th>\n",
       "      <td>A man is playing the cello.</td>\n",
       "      <td>A man seated is playing the cello.</td>\n",
       "      <td>0.85</td>\n",
       "      <td>A man is playing the cello.</td>\n",
       "    </tr>\n",
       "  </tbody>\n",
       "</table>\n",
       "</div>"
      ],
      "text/plain": [
       "                                           Text1  \\\n",
       "0                         A plane is taking off.   \n",
       "1                A man is playing a large flute.   \n",
       "2  A man is spreading shreded cheese on a pizza.   \n",
       "3                   Three men are playing chess.   \n",
       "4                    A man is playing the cello.   \n",
       "\n",
       "                                               Text2  \\\n",
       "0                        An air plane is taking off.   \n",
       "1                          A man is playing a flute.   \n",
       "2  A man is spreading shredded cheese on an uncoo...   \n",
       "3                         Two men are playing chess.   \n",
       "4                 A man seated is playing the cello.   \n",
       "\n",
       "   benchmark_similarity_score                                          text1  \n",
       "0                        1.00                         A plane is taking off.  \n",
       "1                        0.76                A man is playing a large flute.  \n",
       "2                        0.76  A man is spreading shreded cheese on a pizza.  \n",
       "3                        0.52                   Three men are playing chess.  \n",
       "4                        0.85                    A man is playing the cello.  "
      ]
     },
     "execution_count": 42,
     "metadata": {},
     "output_type": "execute_result"
    }
   ],
   "source": [
    "new_df['text1']=new_df['Text1'].apply(chat_word_treat)\n",
    "new_df.head(5)"
   ]
  },
  {
   "cell_type": "code",
   "execution_count": 43,
   "metadata": {},
   "outputs": [
    {
     "data": {
      "text/html": [
       "<div>\n",
       "<style scoped>\n",
       "    .dataframe tbody tr th:only-of-type {\n",
       "        vertical-align: middle;\n",
       "    }\n",
       "\n",
       "    .dataframe tbody tr th {\n",
       "        vertical-align: top;\n",
       "    }\n",
       "\n",
       "    .dataframe thead th {\n",
       "        text-align: right;\n",
       "    }\n",
       "</style>\n",
       "<table border=\"1\" class=\"dataframe\">\n",
       "  <thead>\n",
       "    <tr style=\"text-align: right;\">\n",
       "      <th></th>\n",
       "      <th>Text1</th>\n",
       "      <th>Text2</th>\n",
       "      <th>benchmark_similarity_score</th>\n",
       "      <th>text1</th>\n",
       "      <th>text2</th>\n",
       "    </tr>\n",
       "  </thead>\n",
       "  <tbody>\n",
       "    <tr>\n",
       "      <th>0</th>\n",
       "      <td>A plane is taking off.</td>\n",
       "      <td>An air plane is taking off.</td>\n",
       "      <td>1.00</td>\n",
       "      <td>A plane is taking off.</td>\n",
       "      <td>An air plane is taking off.</td>\n",
       "    </tr>\n",
       "    <tr>\n",
       "      <th>1</th>\n",
       "      <td>A man is playing a large flute.</td>\n",
       "      <td>A man is playing a flute.</td>\n",
       "      <td>0.76</td>\n",
       "      <td>A man is playing a large flute.</td>\n",
       "      <td>A man is playing a flute.</td>\n",
       "    </tr>\n",
       "    <tr>\n",
       "      <th>2</th>\n",
       "      <td>A man is spreading shreded cheese on a pizza.</td>\n",
       "      <td>A man is spreading shredded cheese on an uncoo...</td>\n",
       "      <td>0.76</td>\n",
       "      <td>A man is spreading shreded cheese on a pizza.</td>\n",
       "      <td>A man is spreading shredded cheese on an uncoo...</td>\n",
       "    </tr>\n",
       "    <tr>\n",
       "      <th>3</th>\n",
       "      <td>Three men are playing chess.</td>\n",
       "      <td>Two men are playing chess.</td>\n",
       "      <td>0.52</td>\n",
       "      <td>Three men are playing chess.</td>\n",
       "      <td>Two men are playing chess.</td>\n",
       "    </tr>\n",
       "    <tr>\n",
       "      <th>4</th>\n",
       "      <td>A man is playing the cello.</td>\n",
       "      <td>A man seated is playing the cello.</td>\n",
       "      <td>0.85</td>\n",
       "      <td>A man is playing the cello.</td>\n",
       "      <td>A man seated is playing the cello.</td>\n",
       "    </tr>\n",
       "  </tbody>\n",
       "</table>\n",
       "</div>"
      ],
      "text/plain": [
       "                                           Text1  \\\n",
       "0                         A plane is taking off.   \n",
       "1                A man is playing a large flute.   \n",
       "2  A man is spreading shreded cheese on a pizza.   \n",
       "3                   Three men are playing chess.   \n",
       "4                    A man is playing the cello.   \n",
       "\n",
       "                                               Text2  \\\n",
       "0                        An air plane is taking off.   \n",
       "1                          A man is playing a flute.   \n",
       "2  A man is spreading shredded cheese on an uncoo...   \n",
       "3                         Two men are playing chess.   \n",
       "4                 A man seated is playing the cello.   \n",
       "\n",
       "   benchmark_similarity_score                                          text1  \\\n",
       "0                        1.00                         A plane is taking off.   \n",
       "1                        0.76                A man is playing a large flute.   \n",
       "2                        0.76  A man is spreading shreded cheese on a pizza.   \n",
       "3                        0.52                   Three men are playing chess.   \n",
       "4                        0.85                    A man is playing the cello.   \n",
       "\n",
       "                                               text2  \n",
       "0                        An air plane is taking off.  \n",
       "1                          A man is playing a flute.  \n",
       "2  A man is spreading shredded cheese on an uncoo...  \n",
       "3                         Two men are playing chess.  \n",
       "4                 A man seated is playing the cello.  "
      ]
     },
     "execution_count": 43,
     "metadata": {},
     "output_type": "execute_result"
    }
   ],
   "source": [
    "new_df['text2']=new_df['Text2'].apply(chat_word_treat)\n",
    "new_df.head(5)"
   ]
  },
  {
   "cell_type": "code",
   "execution_count": 44,
   "metadata": {},
   "outputs": [
    {
     "data": {
      "text/html": [
       "<div>\n",
       "<style scoped>\n",
       "    .dataframe tbody tr th:only-of-type {\n",
       "        vertical-align: middle;\n",
       "    }\n",
       "\n",
       "    .dataframe tbody tr th {\n",
       "        vertical-align: top;\n",
       "    }\n",
       "\n",
       "    .dataframe thead th {\n",
       "        text-align: right;\n",
       "    }\n",
       "</style>\n",
       "<table border=\"1\" class=\"dataframe\">\n",
       "  <thead>\n",
       "    <tr style=\"text-align: right;\">\n",
       "      <th></th>\n",
       "      <th>Text1</th>\n",
       "      <th>Text2</th>\n",
       "      <th>benchmark_similarity_score</th>\n",
       "      <th>text1</th>\n",
       "      <th>text2</th>\n",
       "    </tr>\n",
       "  </thead>\n",
       "  <tbody>\n",
       "    <tr>\n",
       "      <th>0</th>\n",
       "      <td>A plane is taking off.</td>\n",
       "      <td>An air plane is taking off.</td>\n",
       "      <td>1.00</td>\n",
       "      <td>a plane is taking off.</td>\n",
       "      <td>An air plane is taking off.</td>\n",
       "    </tr>\n",
       "    <tr>\n",
       "      <th>1</th>\n",
       "      <td>A man is playing a large flute.</td>\n",
       "      <td>A man is playing a flute.</td>\n",
       "      <td>0.76</td>\n",
       "      <td>a man is playing a large flute.</td>\n",
       "      <td>A man is playing a flute.</td>\n",
       "    </tr>\n",
       "    <tr>\n",
       "      <th>2</th>\n",
       "      <td>A man is spreading shreded cheese on a pizza.</td>\n",
       "      <td>A man is spreading shredded cheese on an uncoo...</td>\n",
       "      <td>0.76</td>\n",
       "      <td>a man is spreading shreded cheese on a pizza.</td>\n",
       "      <td>A man is spreading shredded cheese on an uncoo...</td>\n",
       "    </tr>\n",
       "    <tr>\n",
       "      <th>3</th>\n",
       "      <td>Three men are playing chess.</td>\n",
       "      <td>Two men are playing chess.</td>\n",
       "      <td>0.52</td>\n",
       "      <td>three men are playing chess.</td>\n",
       "      <td>Two men are playing chess.</td>\n",
       "    </tr>\n",
       "    <tr>\n",
       "      <th>4</th>\n",
       "      <td>A man is playing the cello.</td>\n",
       "      <td>A man seated is playing the cello.</td>\n",
       "      <td>0.85</td>\n",
       "      <td>a man is playing the cello.</td>\n",
       "      <td>A man seated is playing the cello.</td>\n",
       "    </tr>\n",
       "  </tbody>\n",
       "</table>\n",
       "</div>"
      ],
      "text/plain": [
       "                                           Text1  \\\n",
       "0                         A plane is taking off.   \n",
       "1                A man is playing a large flute.   \n",
       "2  A man is spreading shreded cheese on a pizza.   \n",
       "3                   Three men are playing chess.   \n",
       "4                    A man is playing the cello.   \n",
       "\n",
       "                                               Text2  \\\n",
       "0                        An air plane is taking off.   \n",
       "1                          A man is playing a flute.   \n",
       "2  A man is spreading shredded cheese on an uncoo...   \n",
       "3                         Two men are playing chess.   \n",
       "4                 A man seated is playing the cello.   \n",
       "\n",
       "   benchmark_similarity_score                                          text1  \\\n",
       "0                        1.00                         a plane is taking off.   \n",
       "1                        0.76                a man is playing a large flute.   \n",
       "2                        0.76  a man is spreading shreded cheese on a pizza.   \n",
       "3                        0.52                   three men are playing chess.   \n",
       "4                        0.85                    a man is playing the cello.   \n",
       "\n",
       "                                               text2  \n",
       "0                        An air plane is taking off.  \n",
       "1                          A man is playing a flute.  \n",
       "2  A man is spreading shredded cheese on an uncoo...  \n",
       "3                         Two men are playing chess.  \n",
       "4                 A man seated is playing the cello.  "
      ]
     },
     "execution_count": 44,
     "metadata": {},
     "output_type": "execute_result"
    }
   ],
   "source": [
    "new_df['text1']=new_df['text1'].str.lower()\n",
    "new_df.head(5)"
   ]
  },
  {
   "cell_type": "code",
   "execution_count": 45,
   "metadata": {},
   "outputs": [
    {
     "data": {
      "text/html": [
       "<div>\n",
       "<style scoped>\n",
       "    .dataframe tbody tr th:only-of-type {\n",
       "        vertical-align: middle;\n",
       "    }\n",
       "\n",
       "    .dataframe tbody tr th {\n",
       "        vertical-align: top;\n",
       "    }\n",
       "\n",
       "    .dataframe thead th {\n",
       "        text-align: right;\n",
       "    }\n",
       "</style>\n",
       "<table border=\"1\" class=\"dataframe\">\n",
       "  <thead>\n",
       "    <tr style=\"text-align: right;\">\n",
       "      <th></th>\n",
       "      <th>Text1</th>\n",
       "      <th>Text2</th>\n",
       "      <th>benchmark_similarity_score</th>\n",
       "      <th>text1</th>\n",
       "      <th>text2</th>\n",
       "    </tr>\n",
       "  </thead>\n",
       "  <tbody>\n",
       "    <tr>\n",
       "      <th>0</th>\n",
       "      <td>A plane is taking off.</td>\n",
       "      <td>An air plane is taking off.</td>\n",
       "      <td>1.00</td>\n",
       "      <td>a plane is taking off.</td>\n",
       "      <td>an air plane is taking off.</td>\n",
       "    </tr>\n",
       "    <tr>\n",
       "      <th>1</th>\n",
       "      <td>A man is playing a large flute.</td>\n",
       "      <td>A man is playing a flute.</td>\n",
       "      <td>0.76</td>\n",
       "      <td>a man is playing a large flute.</td>\n",
       "      <td>a man is playing a flute.</td>\n",
       "    </tr>\n",
       "    <tr>\n",
       "      <th>2</th>\n",
       "      <td>A man is spreading shreded cheese on a pizza.</td>\n",
       "      <td>A man is spreading shredded cheese on an uncoo...</td>\n",
       "      <td>0.76</td>\n",
       "      <td>a man is spreading shreded cheese on a pizza.</td>\n",
       "      <td>a man is spreading shredded cheese on an uncoo...</td>\n",
       "    </tr>\n",
       "    <tr>\n",
       "      <th>3</th>\n",
       "      <td>Three men are playing chess.</td>\n",
       "      <td>Two men are playing chess.</td>\n",
       "      <td>0.52</td>\n",
       "      <td>three men are playing chess.</td>\n",
       "      <td>two men are playing chess.</td>\n",
       "    </tr>\n",
       "    <tr>\n",
       "      <th>4</th>\n",
       "      <td>A man is playing the cello.</td>\n",
       "      <td>A man seated is playing the cello.</td>\n",
       "      <td>0.85</td>\n",
       "      <td>a man is playing the cello.</td>\n",
       "      <td>a man seated is playing the cello.</td>\n",
       "    </tr>\n",
       "  </tbody>\n",
       "</table>\n",
       "</div>"
      ],
      "text/plain": [
       "                                           Text1  \\\n",
       "0                         A plane is taking off.   \n",
       "1                A man is playing a large flute.   \n",
       "2  A man is spreading shreded cheese on a pizza.   \n",
       "3                   Three men are playing chess.   \n",
       "4                    A man is playing the cello.   \n",
       "\n",
       "                                               Text2  \\\n",
       "0                        An air plane is taking off.   \n",
       "1                          A man is playing a flute.   \n",
       "2  A man is spreading shredded cheese on an uncoo...   \n",
       "3                         Two men are playing chess.   \n",
       "4                 A man seated is playing the cello.   \n",
       "\n",
       "   benchmark_similarity_score                                          text1  \\\n",
       "0                        1.00                         a plane is taking off.   \n",
       "1                        0.76                a man is playing a large flute.   \n",
       "2                        0.76  a man is spreading shreded cheese on a pizza.   \n",
       "3                        0.52                   three men are playing chess.   \n",
       "4                        0.85                    a man is playing the cello.   \n",
       "\n",
       "                                               text2  \n",
       "0                        an air plane is taking off.  \n",
       "1                          a man is playing a flute.  \n",
       "2  a man is spreading shredded cheese on an uncoo...  \n",
       "3                         two men are playing chess.  \n",
       "4                 a man seated is playing the cello.  "
      ]
     },
     "execution_count": 45,
     "metadata": {},
     "output_type": "execute_result"
    }
   ],
   "source": [
    "new_df['text2']=new_df['text2'].str.lower()\n",
    "new_df.head(5)"
   ]
  },
  {
   "cell_type": "code",
   "execution_count": 46,
   "metadata": {},
   "outputs": [
    {
     "name": "stderr",
     "output_type": "stream",
     "text": [
      "C:\\Users\\aksha\\anaconda3\\lib\\site-packages\\bs4\\__init__.py:435: MarkupResemblesLocatorWarning: The input looks more like a filename than markup. You may want to open this file and pass the filehandle into Beautiful Soup.\n",
      "  warnings.warn(\n"
     ]
    },
    {
     "data": {
      "text/plain": [
       "'a man is playing a large flute.'"
      ]
     },
     "execution_count": 46,
     "metadata": {},
     "output_type": "execute_result"
    }
   ],
   "source": [
    "new_df['text1']=new_df['text1'].apply(remove_htmlTags)\n",
    "new_df['text1'].iloc[1]"
   ]
  },
  {
   "cell_type": "code",
   "execution_count": 47,
   "metadata": {},
   "outputs": [
    {
     "data": {
      "text/plain": [
       "'a man is playing a flute.'"
      ]
     },
     "execution_count": 47,
     "metadata": {},
     "output_type": "execute_result"
    }
   ],
   "source": [
    "new_df['text2']=new_df['text2'].apply(remove_htmlTags)\n",
    "new_df['text2'].iloc[1]"
   ]
  },
  {
   "cell_type": "code",
   "execution_count": 48,
   "metadata": {},
   "outputs": [
    {
     "data": {
      "text/html": [
       "<div>\n",
       "<style scoped>\n",
       "    .dataframe tbody tr th:only-of-type {\n",
       "        vertical-align: middle;\n",
       "    }\n",
       "\n",
       "    .dataframe tbody tr th {\n",
       "        vertical-align: top;\n",
       "    }\n",
       "\n",
       "    .dataframe thead th {\n",
       "        text-align: right;\n",
       "    }\n",
       "</style>\n",
       "<table border=\"1\" class=\"dataframe\">\n",
       "  <thead>\n",
       "    <tr style=\"text-align: right;\">\n",
       "      <th></th>\n",
       "      <th>Text1</th>\n",
       "      <th>Text2</th>\n",
       "      <th>benchmark_similarity_score</th>\n",
       "      <th>text1</th>\n",
       "      <th>text2</th>\n",
       "    </tr>\n",
       "  </thead>\n",
       "  <tbody>\n",
       "    <tr>\n",
       "      <th>0</th>\n",
       "      <td>A plane is taking off.</td>\n",
       "      <td>An air plane is taking off.</td>\n",
       "      <td>1.00</td>\n",
       "      <td>a plane is taking off</td>\n",
       "      <td>an air plane is taking off.</td>\n",
       "    </tr>\n",
       "    <tr>\n",
       "      <th>1</th>\n",
       "      <td>A man is playing a large flute.</td>\n",
       "      <td>A man is playing a flute.</td>\n",
       "      <td>0.76</td>\n",
       "      <td>a man is playing a large flute</td>\n",
       "      <td>a man is playing a flute.</td>\n",
       "    </tr>\n",
       "    <tr>\n",
       "      <th>2</th>\n",
       "      <td>A man is spreading shreded cheese on a pizza.</td>\n",
       "      <td>A man is spreading shredded cheese on an uncoo...</td>\n",
       "      <td>0.76</td>\n",
       "      <td>a man is spreading shreded cheese on a pizza</td>\n",
       "      <td>a man is spreading shredded cheese on an uncoo...</td>\n",
       "    </tr>\n",
       "    <tr>\n",
       "      <th>3</th>\n",
       "      <td>Three men are playing chess.</td>\n",
       "      <td>Two men are playing chess.</td>\n",
       "      <td>0.52</td>\n",
       "      <td>three men are playing chess</td>\n",
       "      <td>two men are playing chess.</td>\n",
       "    </tr>\n",
       "    <tr>\n",
       "      <th>4</th>\n",
       "      <td>A man is playing the cello.</td>\n",
       "      <td>A man seated is playing the cello.</td>\n",
       "      <td>0.85</td>\n",
       "      <td>a man is playing the cello</td>\n",
       "      <td>a man seated is playing the cello.</td>\n",
       "    </tr>\n",
       "  </tbody>\n",
       "</table>\n",
       "</div>"
      ],
      "text/plain": [
       "                                           Text1  \\\n",
       "0                         A plane is taking off.   \n",
       "1                A man is playing a large flute.   \n",
       "2  A man is spreading shreded cheese on a pizza.   \n",
       "3                   Three men are playing chess.   \n",
       "4                    A man is playing the cello.   \n",
       "\n",
       "                                               Text2  \\\n",
       "0                        An air plane is taking off.   \n",
       "1                          A man is playing a flute.   \n",
       "2  A man is spreading shredded cheese on an uncoo...   \n",
       "3                         Two men are playing chess.   \n",
       "4                 A man seated is playing the cello.   \n",
       "\n",
       "   benchmark_similarity_score                                         text1  \\\n",
       "0                        1.00                         a plane is taking off   \n",
       "1                        0.76                a man is playing a large flute   \n",
       "2                        0.76  a man is spreading shreded cheese on a pizza   \n",
       "3                        0.52                   three men are playing chess   \n",
       "4                        0.85                    a man is playing the cello   \n",
       "\n",
       "                                               text2  \n",
       "0                        an air plane is taking off.  \n",
       "1                          a man is playing a flute.  \n",
       "2  a man is spreading shredded cheese on an uncoo...  \n",
       "3                         two men are playing chess.  \n",
       "4                 a man seated is playing the cello.  "
      ]
     },
     "execution_count": 48,
     "metadata": {},
     "output_type": "execute_result"
    }
   ],
   "source": [
    "new_df['text1']=new_df['text1'].apply(remove_punctuation)\n",
    "new_df.head(5)"
   ]
  },
  {
   "cell_type": "code",
   "execution_count": 49,
   "metadata": {},
   "outputs": [
    {
     "data": {
      "text/html": [
       "<div>\n",
       "<style scoped>\n",
       "    .dataframe tbody tr th:only-of-type {\n",
       "        vertical-align: middle;\n",
       "    }\n",
       "\n",
       "    .dataframe tbody tr th {\n",
       "        vertical-align: top;\n",
       "    }\n",
       "\n",
       "    .dataframe thead th {\n",
       "        text-align: right;\n",
       "    }\n",
       "</style>\n",
       "<table border=\"1\" class=\"dataframe\">\n",
       "  <thead>\n",
       "    <tr style=\"text-align: right;\">\n",
       "      <th></th>\n",
       "      <th>Text1</th>\n",
       "      <th>Text2</th>\n",
       "      <th>benchmark_similarity_score</th>\n",
       "      <th>text1</th>\n",
       "      <th>text2</th>\n",
       "    </tr>\n",
       "  </thead>\n",
       "  <tbody>\n",
       "    <tr>\n",
       "      <th>0</th>\n",
       "      <td>A plane is taking off.</td>\n",
       "      <td>An air plane is taking off.</td>\n",
       "      <td>1.00</td>\n",
       "      <td>a plane is taking off</td>\n",
       "      <td>an air plane is taking off</td>\n",
       "    </tr>\n",
       "    <tr>\n",
       "      <th>1</th>\n",
       "      <td>A man is playing a large flute.</td>\n",
       "      <td>A man is playing a flute.</td>\n",
       "      <td>0.76</td>\n",
       "      <td>a man is playing a large flute</td>\n",
       "      <td>a man is playing a flute</td>\n",
       "    </tr>\n",
       "    <tr>\n",
       "      <th>2</th>\n",
       "      <td>A man is spreading shreded cheese on a pizza.</td>\n",
       "      <td>A man is spreading shredded cheese on an uncoo...</td>\n",
       "      <td>0.76</td>\n",
       "      <td>a man is spreading shreded cheese on a pizza</td>\n",
       "      <td>a man is spreading shredded cheese on an uncoo...</td>\n",
       "    </tr>\n",
       "    <tr>\n",
       "      <th>3</th>\n",
       "      <td>Three men are playing chess.</td>\n",
       "      <td>Two men are playing chess.</td>\n",
       "      <td>0.52</td>\n",
       "      <td>three men are playing chess</td>\n",
       "      <td>two men are playing chess</td>\n",
       "    </tr>\n",
       "    <tr>\n",
       "      <th>4</th>\n",
       "      <td>A man is playing the cello.</td>\n",
       "      <td>A man seated is playing the cello.</td>\n",
       "      <td>0.85</td>\n",
       "      <td>a man is playing the cello</td>\n",
       "      <td>a man seated is playing the cello</td>\n",
       "    </tr>\n",
       "  </tbody>\n",
       "</table>\n",
       "</div>"
      ],
      "text/plain": [
       "                                           Text1  \\\n",
       "0                         A plane is taking off.   \n",
       "1                A man is playing a large flute.   \n",
       "2  A man is spreading shreded cheese on a pizza.   \n",
       "3                   Three men are playing chess.   \n",
       "4                    A man is playing the cello.   \n",
       "\n",
       "                                               Text2  \\\n",
       "0                        An air plane is taking off.   \n",
       "1                          A man is playing a flute.   \n",
       "2  A man is spreading shredded cheese on an uncoo...   \n",
       "3                         Two men are playing chess.   \n",
       "4                 A man seated is playing the cello.   \n",
       "\n",
       "   benchmark_similarity_score                                         text1  \\\n",
       "0                        1.00                         a plane is taking off   \n",
       "1                        0.76                a man is playing a large flute   \n",
       "2                        0.76  a man is spreading shreded cheese on a pizza   \n",
       "3                        0.52                   three men are playing chess   \n",
       "4                        0.85                    a man is playing the cello   \n",
       "\n",
       "                                               text2  \n",
       "0                         an air plane is taking off  \n",
       "1                           a man is playing a flute  \n",
       "2  a man is spreading shredded cheese on an uncoo...  \n",
       "3                          two men are playing chess  \n",
       "4                  a man seated is playing the cello  "
      ]
     },
     "execution_count": 49,
     "metadata": {},
     "output_type": "execute_result"
    }
   ],
   "source": [
    "new_df['text2']=new_df['text2'].apply(remove_punctuation)\n",
    "new_df.head(5)"
   ]
  },
  {
   "cell_type": "code",
   "execution_count": 50,
   "metadata": {},
   "outputs": [
    {
     "name": "stdout",
     "output_type": "stream",
     "text": [
      "<class 'pandas.core.frame.DataFrame'>\n",
      "Int64Index: 6947 entries, 0 to 6951\n",
      "Data columns (total 5 columns):\n",
      " #   Column                      Non-Null Count  Dtype  \n",
      "---  ------                      --------------  -----  \n",
      " 0   Text1                       6947 non-null   object \n",
      " 1   Text2                       6947 non-null   object \n",
      " 2   benchmark_similarity_score  6947 non-null   float64\n",
      " 3   text1                       6947 non-null   object \n",
      " 4   text2                       6947 non-null   object \n",
      "dtypes: float64(1), object(4)\n",
      "memory usage: 325.6+ KB\n"
     ]
    }
   ],
   "source": [
    "new_df.info()"
   ]
  },
  {
   "cell_type": "code",
   "execution_count": 51,
   "metadata": {},
   "outputs": [],
   "source": [
    "text_data=new_df.text1.astype(str)+\" \"+new_df.text2.astype(str) # Combine text1 and text2 into a single column"
   ]
  },
  {
   "cell_type": "code",
   "execution_count": 52,
   "metadata": {},
   "outputs": [],
   "source": [
    "tfidf_matrix=tfidf.fit_transform(text_data)\n",
    "\n",
    "# Extract vectors for each text from the tfidf_matrix\n",
    "vect_text1=tfidf.transform(new_df.text1).toarray()\n",
    "vect_text2=tfidf.transform(new_df.text2).toarray()"
   ]
  },
  {
   "cell_type": "code",
   "execution_count": 53,
   "metadata": {},
   "outputs": [
    {
     "name": "stdout",
     "output_type": "stream",
     "text": [
      "6947\n"
     ]
    },
    {
     "data": {
      "text/html": [
       "<div>\n",
       "<style scoped>\n",
       "    .dataframe tbody tr th:only-of-type {\n",
       "        vertical-align: middle;\n",
       "    }\n",
       "\n",
       "    .dataframe tbody tr th {\n",
       "        vertical-align: top;\n",
       "    }\n",
       "\n",
       "    .dataframe thead th {\n",
       "        text-align: right;\n",
       "    }\n",
       "</style>\n",
       "<table border=\"1\" class=\"dataframe\">\n",
       "  <thead>\n",
       "    <tr style=\"text-align: right;\">\n",
       "      <th></th>\n",
       "      <th>Text1</th>\n",
       "      <th>Text2</th>\n",
       "      <th>benchmark_similarity_score</th>\n",
       "      <th>text1</th>\n",
       "      <th>text2</th>\n",
       "      <th>similarity</th>\n",
       "    </tr>\n",
       "  </thead>\n",
       "  <tbody>\n",
       "    <tr>\n",
       "      <th>0</th>\n",
       "      <td>A plane is taking off.</td>\n",
       "      <td>An air plane is taking off.</td>\n",
       "      <td>1.00</td>\n",
       "      <td>a plane is taking off</td>\n",
       "      <td>an air plane is taking off</td>\n",
       "      <td>0.836012</td>\n",
       "    </tr>\n",
       "    <tr>\n",
       "      <th>1</th>\n",
       "      <td>A man is playing a large flute.</td>\n",
       "      <td>A man is playing a flute.</td>\n",
       "      <td>0.76</td>\n",
       "      <td>a man is playing a large flute</td>\n",
       "      <td>a man is playing a flute</td>\n",
       "      <td>0.824444</td>\n",
       "    </tr>\n",
       "    <tr>\n",
       "      <th>2</th>\n",
       "      <td>A man is spreading shreded cheese on a pizza.</td>\n",
       "      <td>A man is spreading shredded cheese on an uncoo...</td>\n",
       "      <td>0.76</td>\n",
       "      <td>a man is spreading shreded cheese on a pizza</td>\n",
       "      <td>a man is spreading shredded cheese on an uncoo...</td>\n",
       "      <td>0.619338</td>\n",
       "    </tr>\n",
       "    <tr>\n",
       "      <th>3</th>\n",
       "      <td>Three men are playing chess.</td>\n",
       "      <td>Two men are playing chess.</td>\n",
       "      <td>0.52</td>\n",
       "      <td>three men are playing chess</td>\n",
       "      <td>two men are playing chess</td>\n",
       "      <td>1.000000</td>\n",
       "    </tr>\n",
       "    <tr>\n",
       "      <th>4</th>\n",
       "      <td>A man is playing the cello.</td>\n",
       "      <td>A man seated is playing the cello.</td>\n",
       "      <td>0.85</td>\n",
       "      <td>a man is playing the cello</td>\n",
       "      <td>a man seated is playing the cello</td>\n",
       "      <td>0.805998</td>\n",
       "    </tr>\n",
       "    <tr>\n",
       "      <th>...</th>\n",
       "      <td>...</td>\n",
       "      <td>...</td>\n",
       "      <td>...</td>\n",
       "      <td>...</td>\n",
       "      <td>...</td>\n",
       "      <td>...</td>\n",
       "    </tr>\n",
       "    <tr>\n",
       "      <th>6947</th>\n",
       "      <td>World's oldest man dies at 116</td>\n",
       "      <td>Japan: World's Oldest Man Ever Dies Aged 116</td>\n",
       "      <td>0.92</td>\n",
       "      <td>worlds oldest man dies at 116</td>\n",
       "      <td>japan worlds oldest man ever dies aged 116</td>\n",
       "      <td>0.828510</td>\n",
       "    </tr>\n",
       "    <tr>\n",
       "      <th>6948</th>\n",
       "      <td>Pakistanis vote in landmark election</td>\n",
       "      <td>Pakistan holds landmark election as 29 killed ...</td>\n",
       "      <td>0.68</td>\n",
       "      <td>pakistanis vote in landmark election</td>\n",
       "      <td>pakistan holds landmark election as 29 killed ...</td>\n",
       "      <td>0.397485</td>\n",
       "    </tr>\n",
       "    <tr>\n",
       "      <th>6949</th>\n",
       "      <td>Algeria president gets therapy after stroke: s...</td>\n",
       "      <td>Bulgarian president tries to break election st...</td>\n",
       "      <td>0.08</td>\n",
       "      <td>algeria president gets therapy after stroke st...</td>\n",
       "      <td>bulgarian president tries to break election st...</td>\n",
       "      <td>0.072435</td>\n",
       "    </tr>\n",
       "    <tr>\n",
       "      <th>6950</th>\n",
       "      <td>Yemen: Fighting in north kills over 120</td>\n",
       "      <td>Janet Yellen: Five things you might not know</td>\n",
       "      <td>0.00</td>\n",
       "      <td>yemen fighting in north kills over 120</td>\n",
       "      <td>janet yellen five things you might not know</td>\n",
       "      <td>0.000000</td>\n",
       "    </tr>\n",
       "    <tr>\n",
       "      <th>6951</th>\n",
       "      <td>Pakistan's Musharraf charged over Bhutto murder</td>\n",
       "      <td>Pakistan's Musharraf Charged In Bhutto Death</td>\n",
       "      <td>0.96</td>\n",
       "      <td>pakistans musharraf charged over bhutto murder</td>\n",
       "      <td>pakistans musharraf charged in bhutto death</td>\n",
       "      <td>0.872037</td>\n",
       "    </tr>\n",
       "  </tbody>\n",
       "</table>\n",
       "<p>6947 rows × 6 columns</p>\n",
       "</div>"
      ],
      "text/plain": [
       "                                                  Text1  \\\n",
       "0                                A plane is taking off.   \n",
       "1                       A man is playing a large flute.   \n",
       "2         A man is spreading shreded cheese on a pizza.   \n",
       "3                          Three men are playing chess.   \n",
       "4                           A man is playing the cello.   \n",
       "...                                                 ...   \n",
       "6947                     World's oldest man dies at 116   \n",
       "6948               Pakistanis vote in landmark election   \n",
       "6949  Algeria president gets therapy after stroke: s...   \n",
       "6950            Yemen: Fighting in north kills over 120   \n",
       "6951    Pakistan's Musharraf charged over Bhutto murder   \n",
       "\n",
       "                                                  Text2  \\\n",
       "0                           An air plane is taking off.   \n",
       "1                             A man is playing a flute.   \n",
       "2     A man is spreading shredded cheese on an uncoo...   \n",
       "3                            Two men are playing chess.   \n",
       "4                    A man seated is playing the cello.   \n",
       "...                                                 ...   \n",
       "6947       Japan: World's Oldest Man Ever Dies Aged 116   \n",
       "6948  Pakistan holds landmark election as 29 killed ...   \n",
       "6949  Bulgarian president tries to break election st...   \n",
       "6950       Janet Yellen: Five things you might not know   \n",
       "6951       Pakistan's Musharraf Charged In Bhutto Death   \n",
       "\n",
       "      benchmark_similarity_score  \\\n",
       "0                           1.00   \n",
       "1                           0.76   \n",
       "2                           0.76   \n",
       "3                           0.52   \n",
       "4                           0.85   \n",
       "...                          ...   \n",
       "6947                        0.92   \n",
       "6948                        0.68   \n",
       "6949                        0.08   \n",
       "6950                        0.00   \n",
       "6951                        0.96   \n",
       "\n",
       "                                                  text1  \\\n",
       "0                                 a plane is taking off   \n",
       "1                        a man is playing a large flute   \n",
       "2          a man is spreading shreded cheese on a pizza   \n",
       "3                           three men are playing chess   \n",
       "4                            a man is playing the cello   \n",
       "...                                                 ...   \n",
       "6947                      worlds oldest man dies at 116   \n",
       "6948               pakistanis vote in landmark election   \n",
       "6949  algeria president gets therapy after stroke st...   \n",
       "6950             yemen fighting in north kills over 120   \n",
       "6951     pakistans musharraf charged over bhutto murder   \n",
       "\n",
       "                                                  text2  similarity  \n",
       "0                            an air plane is taking off    0.836012  \n",
       "1                              a man is playing a flute    0.824444  \n",
       "2     a man is spreading shredded cheese on an uncoo...    0.619338  \n",
       "3                             two men are playing chess    1.000000  \n",
       "4                     a man seated is playing the cello    0.805998  \n",
       "...                                                 ...         ...  \n",
       "6947         japan worlds oldest man ever dies aged 116    0.828510  \n",
       "6948  pakistan holds landmark election as 29 killed ...    0.397485  \n",
       "6949  bulgarian president tries to break election st...    0.072435  \n",
       "6950        janet yellen five things you might not know    0.000000  \n",
       "6951        pakistans musharraf charged in bhutto death    0.872037  \n",
       "\n",
       "[6947 rows x 6 columns]"
      ]
     },
     "execution_count": 53,
     "metadata": {},
     "output_type": "execute_result"
    }
   ],
   "source": [
    "from sklearn.metrics.pairwise import cosine_similarity\n",
    "\n",
    "cosine_similarities=[]\n",
    "vect1=[]\n",
    "vect2=[]\n",
    "for i in range(len(new_df)):\n",
    "    vector1=vect_text1[i].reshape(1, -1)\n",
    "    vector2=vect_text2[i].reshape(1, -1)\n",
    "    similarity=cosine_similarity(vector1, vector2)[0][0]\n",
    "    vect1.append(vector1)\n",
    "    vect2.append(vector2)\n",
    "    cosine_similarities.append(similarity)\n",
    "\n",
    "print(len(cosine_similarities))\n",
    "# Add the cosine similarity column to the DataFrame\n",
    "# new_df['text1_vect']=vect1\n",
    "# new_df['text2_vect']=vect2\n",
    "new_df['similarity']=cosine_similarities\n",
    "new_df"
   ]
  },
  {
   "cell_type": "code",
   "execution_count": 63,
   "metadata": {
    "scrolled": false
   },
   "outputs": [
    {
     "data": {
      "text/html": [
       "<div>\n",
       "<style scoped>\n",
       "    .dataframe tbody tr th:only-of-type {\n",
       "        vertical-align: middle;\n",
       "    }\n",
       "\n",
       "    .dataframe tbody tr th {\n",
       "        vertical-align: top;\n",
       "    }\n",
       "\n",
       "    .dataframe thead th {\n",
       "        text-align: right;\n",
       "    }\n",
       "</style>\n",
       "<table border=\"1\" class=\"dataframe\">\n",
       "  <thead>\n",
       "    <tr style=\"text-align: right;\">\n",
       "      <th></th>\n",
       "      <th>Text1</th>\n",
       "      <th>Text2</th>\n",
       "      <th>benchmark_similarity_score</th>\n",
       "      <th>text1</th>\n",
       "      <th>text2</th>\n",
       "      <th>similarity</th>\n",
       "      <th>similarity_difference</th>\n",
       "    </tr>\n",
       "  </thead>\n",
       "  <tbody>\n",
       "    <tr>\n",
       "      <th>2306</th>\n",
       "      <td>Use of force in defense of person.-A</td>\n",
       "      <td>Use of force by aggressor.</td>\n",
       "      <td>0.24</td>\n",
       "      <td>use of force in defense of persona</td>\n",
       "      <td>use of force by aggressor</td>\n",
       "      <td>0.427836</td>\n",
       "      <td>0.188</td>\n",
       "    </tr>\n",
       "    <tr>\n",
       "      <th>3754</th>\n",
       "      <td>Gunman kills 6 in shooting at Wisconsin Sikh t...</td>\n",
       "      <td>Gunman kills six in shooting at Sikh temple in...</td>\n",
       "      <td>1.00</td>\n",
       "      <td>gunman kills 6 in shooting at wisconsin sikh t...</td>\n",
       "      <td>gunman kills six in shooting at sikh temple in...</td>\n",
       "      <td>1.000000</td>\n",
       "      <td>0.000</td>\n",
       "    </tr>\n",
       "    <tr>\n",
       "      <th>1335</th>\n",
       "      <td>A person in a red cap standing next to a brick...</td>\n",
       "      <td>A brown horse is standing on grass and scrub.</td>\n",
       "      <td>0.00</td>\n",
       "      <td>a person in a red cap standing next to a brick...</td>\n",
       "      <td>a brown horse is standing on grass and scrub</td>\n",
       "      <td>0.098443</td>\n",
       "      <td>0.098</td>\n",
       "    </tr>\n",
       "    <tr>\n",
       "      <th>3763</th>\n",
       "      <td>Navy Jet Crashes Into Apartment Building</td>\n",
       "      <td>US Navy Jet Crashes into Apartment Block</td>\n",
       "      <td>0.84</td>\n",
       "      <td>navy jet crashes into apartment building</td>\n",
       "      <td>us navy jet crashes into apartment block</td>\n",
       "      <td>0.827667</td>\n",
       "      <td>0.012</td>\n",
       "    </tr>\n",
       "    <tr>\n",
       "      <th>2330</th>\n",
       "      <td>in  Foxe basin was frozen.</td>\n",
       "      <td>Foxe was mostly frozen.</td>\n",
       "      <td>0.84</td>\n",
       "      <td>in foxe basin was frozen</td>\n",
       "      <td>foxe was mostly frozen</td>\n",
       "      <td>0.802561</td>\n",
       "      <td>0.037</td>\n",
       "    </tr>\n",
       "    <tr>\n",
       "      <th>5620</th>\n",
       "      <td>A woman is dancing.</td>\n",
       "      <td>A man breaks a stick.</td>\n",
       "      <td>0.00</td>\n",
       "      <td>a woman is dancing</td>\n",
       "      <td>a man breaks a stick</td>\n",
       "      <td>0.000000</td>\n",
       "      <td>0.000</td>\n",
       "    </tr>\n",
       "    <tr>\n",
       "      <th>5037</th>\n",
       "      <td>Iran dissidents 'killed in Iraq'</td>\n",
       "      <td>France loses influence in Europe</td>\n",
       "      <td>0.00</td>\n",
       "      <td>iran dissidents killed in iraq</td>\n",
       "      <td>france loses influence in europe</td>\n",
       "      <td>0.000000</td>\n",
       "      <td>0.000</td>\n",
       "    </tr>\n",
       "    <tr>\n",
       "      <th>3812</th>\n",
       "      <td>Nigeria plane crash: No survivors</td>\n",
       "      <td>4 Chinese among Nigeria plane crash victims</td>\n",
       "      <td>0.52</td>\n",
       "      <td>nigeria plane crash no survivors</td>\n",
       "      <td>4 chinese among nigeria plane crash victims</td>\n",
       "      <td>0.623132</td>\n",
       "      <td>0.103</td>\n",
       "    </tr>\n",
       "    <tr>\n",
       "      <th>5383</th>\n",
       "      <td>UN inspectors hail progress over Syria chemica...</td>\n",
       "      <td>U.S. has not concluded Syria used chemical wea...</td>\n",
       "      <td>0.44</td>\n",
       "      <td>un inspectors hail progress over syria chemica...</td>\n",
       "      <td>us has not concluded syria used chemical weapo...</td>\n",
       "      <td>0.353447</td>\n",
       "      <td>0.087</td>\n",
       "    </tr>\n",
       "    <tr>\n",
       "      <th>4580</th>\n",
       "      <td>Moderate tremor in the Central Mediterranean</td>\n",
       "      <td>Iran: Moderate candidate wins presidential vote</td>\n",
       "      <td>0.00</td>\n",
       "      <td>moderate tremor in the central mediterranean</td>\n",
       "      <td>iran moderate candidate wins presidential vote</td>\n",
       "      <td>0.249941</td>\n",
       "      <td>0.250</td>\n",
       "    </tr>\n",
       "  </tbody>\n",
       "</table>\n",
       "</div>"
      ],
      "text/plain": [
       "                                                  Text1  \\\n",
       "2306               Use of force in defense of person.-A   \n",
       "3754  Gunman kills 6 in shooting at Wisconsin Sikh t...   \n",
       "1335  A person in a red cap standing next to a brick...   \n",
       "3763           Navy Jet Crashes Into Apartment Building   \n",
       "2330                         in  Foxe basin was frozen.   \n",
       "5620                                A woman is dancing.   \n",
       "5037                   Iran dissidents 'killed in Iraq'   \n",
       "3812                  Nigeria plane crash: No survivors   \n",
       "5383  UN inspectors hail progress over Syria chemica...   \n",
       "4580       Moderate tremor in the Central Mediterranean   \n",
       "\n",
       "                                                  Text2  \\\n",
       "2306                         Use of force by aggressor.   \n",
       "3754  Gunman kills six in shooting at Sikh temple in...   \n",
       "1335      A brown horse is standing on grass and scrub.   \n",
       "3763           US Navy Jet Crashes into Apartment Block   \n",
       "2330                            Foxe was mostly frozen.   \n",
       "5620                              A man breaks a stick.   \n",
       "5037                   France loses influence in Europe   \n",
       "3812        4 Chinese among Nigeria plane crash victims   \n",
       "5383  U.S. has not concluded Syria used chemical wea...   \n",
       "4580    Iran: Moderate candidate wins presidential vote   \n",
       "\n",
       "      benchmark_similarity_score  \\\n",
       "2306                        0.24   \n",
       "3754                        1.00   \n",
       "1335                        0.00   \n",
       "3763                        0.84   \n",
       "2330                        0.84   \n",
       "5620                        0.00   \n",
       "5037                        0.00   \n",
       "3812                        0.52   \n",
       "5383                        0.44   \n",
       "4580                        0.00   \n",
       "\n",
       "                                                  text1  \\\n",
       "2306                 use of force in defense of persona   \n",
       "3754  gunman kills 6 in shooting at wisconsin sikh t...   \n",
       "1335  a person in a red cap standing next to a brick...   \n",
       "3763           navy jet crashes into apartment building   \n",
       "2330                           in foxe basin was frozen   \n",
       "5620                                 a woman is dancing   \n",
       "5037                     iran dissidents killed in iraq   \n",
       "3812                   nigeria plane crash no survivors   \n",
       "5383  un inspectors hail progress over syria chemica...   \n",
       "4580       moderate tremor in the central mediterranean   \n",
       "\n",
       "                                                  text2  similarity  \\\n",
       "2306                          use of force by aggressor    0.427836   \n",
       "3754  gunman kills six in shooting at sikh temple in...    1.000000   \n",
       "1335       a brown horse is standing on grass and scrub    0.098443   \n",
       "3763           us navy jet crashes into apartment block    0.827667   \n",
       "2330                             foxe was mostly frozen    0.802561   \n",
       "5620                               a man breaks a stick    0.000000   \n",
       "5037                   france loses influence in europe    0.000000   \n",
       "3812        4 chinese among nigeria plane crash victims    0.623132   \n",
       "5383  us has not concluded syria used chemical weapo...    0.353447   \n",
       "4580     iran moderate candidate wins presidential vote    0.249941   \n",
       "\n",
       "      similarity_difference  \n",
       "2306                  0.188  \n",
       "3754                  0.000  \n",
       "1335                  0.098  \n",
       "3763                  0.012  \n",
       "2330                  0.037  \n",
       "5620                  0.000  \n",
       "5037                  0.000  \n",
       "3812                  0.103  \n",
       "5383                  0.087  \n",
       "4580                  0.250  "
      ]
     },
     "execution_count": 63,
     "metadata": {},
     "output_type": "execute_result"
    }
   ],
   "source": [
    "new_df.sample(10)"
   ]
  },
  {
   "cell_type": "code",
   "execution_count": 64,
   "metadata": {
    "scrolled": false
   },
   "outputs": [
    {
     "data": {
      "text/html": [
       "<div>\n",
       "<style scoped>\n",
       "    .dataframe tbody tr th:only-of-type {\n",
       "        vertical-align: middle;\n",
       "    }\n",
       "\n",
       "    .dataframe tbody tr th {\n",
       "        vertical-align: top;\n",
       "    }\n",
       "\n",
       "    .dataframe thead th {\n",
       "        text-align: right;\n",
       "    }\n",
       "</style>\n",
       "<table border=\"1\" class=\"dataframe\">\n",
       "  <thead>\n",
       "    <tr style=\"text-align: right;\">\n",
       "      <th></th>\n",
       "      <th>Text1</th>\n",
       "      <th>Text2</th>\n",
       "      <th>benchmark_similarity_score</th>\n",
       "      <th>text1</th>\n",
       "      <th>text2</th>\n",
       "      <th>similarity</th>\n",
       "      <th>similarity_difference</th>\n",
       "    </tr>\n",
       "  </thead>\n",
       "  <tbody>\n",
       "    <tr>\n",
       "      <th>4889</th>\n",
       "      <td>Glasgow Helicopter Crash Search Ends</td>\n",
       "      <td>Glasgow Helicopter Crash: At Least Six Dead</td>\n",
       "      <td>0.56</td>\n",
       "      <td>glasgow helicopter crash search ends</td>\n",
       "      <td>glasgow helicopter crash at least six dead</td>\n",
       "      <td>0.713086</td>\n",
       "      <td>0.153</td>\n",
       "    </tr>\n",
       "    <tr>\n",
       "      <th>3694</th>\n",
       "      <td>the resolution requires all 192 united nations...</td>\n",
       "      <td>resolution 1540 requires all countries to adop...</td>\n",
       "      <td>0.72</td>\n",
       "      <td>the resolution requires all 192 united nations...</td>\n",
       "      <td>resolution 1540 requires all countries to adop...</td>\n",
       "      <td>0.729845</td>\n",
       "      <td>0.010</td>\n",
       "    </tr>\n",
       "    <tr>\n",
       "      <th>1431</th>\n",
       "      <td>A small bird on a tiny branch.</td>\n",
       "      <td>A small bird perched on an icy branch.</td>\n",
       "      <td>0.60</td>\n",
       "      <td>a small bird on a tiny branch</td>\n",
       "      <td>a small bird perched on an icy branch</td>\n",
       "      <td>0.556041</td>\n",
       "      <td>0.044</td>\n",
       "    </tr>\n",
       "    <tr>\n",
       "      <th>1754</th>\n",
       "      <td>A small boy in a bathrobe is sitting in a meta...</td>\n",
       "      <td>A boy in a robe sits in a chair.</td>\n",
       "      <td>0.84</td>\n",
       "      <td>a small boy in a bathrobe is sitting in a meta...</td>\n",
       "      <td>a boy in a robe sits in a chair</td>\n",
       "      <td>0.292799</td>\n",
       "      <td>0.547</td>\n",
       "    </tr>\n",
       "    <tr>\n",
       "      <th>4738</th>\n",
       "      <td>12 killed, 25 injured in bomb blast in NW Paki...</td>\n",
       "      <td>6 killed, 12 injured in blast in NW Pakista</td>\n",
       "      <td>0.52</td>\n",
       "      <td>12 killed 25 injured in bomb blast in nw pakistan</td>\n",
       "      <td>6 killed 12 injured in blast in nw pakista</td>\n",
       "      <td>0.672665</td>\n",
       "      <td>0.153</td>\n",
       "    </tr>\n",
       "    <tr>\n",
       "      <th>5452</th>\n",
       "      <td>Philippines typhoon death toll at 4,460: UN</td>\n",
       "      <td>Philippines typhoon death toll rises above 5,000</td>\n",
       "      <td>0.68</td>\n",
       "      <td>philippines typhoon death toll at 4460 un</td>\n",
       "      <td>philippines typhoon death toll rises above 5000</td>\n",
       "      <td>0.630340</td>\n",
       "      <td>0.050</td>\n",
       "    </tr>\n",
       "    <tr>\n",
       "      <th>92</th>\n",
       "      <td>The man talked on the telephone.</td>\n",
       "      <td>The man is talking on the phone.</td>\n",
       "      <td>0.72</td>\n",
       "      <td>the man talked on the telephone</td>\n",
       "      <td>the man is talking on the phone</td>\n",
       "      <td>0.084495</td>\n",
       "      <td>0.636</td>\n",
       "    </tr>\n",
       "    <tr>\n",
       "      <th>5981</th>\n",
       "      <td>a young girl smiling with her head upside down</td>\n",
       "      <td>A girl poses with her head upside down.</td>\n",
       "      <td>0.92</td>\n",
       "      <td>a young girl smiling with her head upside down</td>\n",
       "      <td>a girl poses with her head upside down</td>\n",
       "      <td>0.682433</td>\n",
       "      <td>0.238</td>\n",
       "    </tr>\n",
       "    <tr>\n",
       "      <th>1110</th>\n",
       "      <td>A motorcycle parked next to a car.</td>\n",
       "      <td>A BMW motorcycle parked between two cars.</td>\n",
       "      <td>0.60</td>\n",
       "      <td>a motorcycle parked next to a car</td>\n",
       "      <td>a bmw motorcycle parked between two cars</td>\n",
       "      <td>0.526654</td>\n",
       "      <td>0.073</td>\n",
       "    </tr>\n",
       "    <tr>\n",
       "      <th>631</th>\n",
       "      <td>A man is running.</td>\n",
       "      <td>A man is mooing.</td>\n",
       "      <td>0.20</td>\n",
       "      <td>a man is running</td>\n",
       "      <td>a man is mooing</td>\n",
       "      <td>0.170546</td>\n",
       "      <td>0.029</td>\n",
       "    </tr>\n",
       "  </tbody>\n",
       "</table>\n",
       "</div>"
      ],
      "text/plain": [
       "                                                  Text1  \\\n",
       "4889               Glasgow Helicopter Crash Search Ends   \n",
       "3694  the resolution requires all 192 united nations...   \n",
       "1431                     A small bird on a tiny branch.   \n",
       "1754  A small boy in a bathrobe is sitting in a meta...   \n",
       "4738  12 killed, 25 injured in bomb blast in NW Paki...   \n",
       "5452        Philippines typhoon death toll at 4,460: UN   \n",
       "92                     The man talked on the telephone.   \n",
       "5981     a young girl smiling with her head upside down   \n",
       "1110                 A motorcycle parked next to a car.   \n",
       "631                                   A man is running.   \n",
       "\n",
       "                                                  Text2  \\\n",
       "4889        Glasgow Helicopter Crash: At Least Six Dead   \n",
       "3694  resolution 1540 requires all countries to adop...   \n",
       "1431             A small bird perched on an icy branch.   \n",
       "1754                   A boy in a robe sits in a chair.   \n",
       "4738        6 killed, 12 injured in blast in NW Pakista   \n",
       "5452   Philippines typhoon death toll rises above 5,000   \n",
       "92                     The man is talking on the phone.   \n",
       "5981            A girl poses with her head upside down.   \n",
       "1110          A BMW motorcycle parked between two cars.   \n",
       "631                                    A man is mooing.   \n",
       "\n",
       "      benchmark_similarity_score  \\\n",
       "4889                        0.56   \n",
       "3694                        0.72   \n",
       "1431                        0.60   \n",
       "1754                        0.84   \n",
       "4738                        0.52   \n",
       "5452                        0.68   \n",
       "92                          0.72   \n",
       "5981                        0.92   \n",
       "1110                        0.60   \n",
       "631                         0.20   \n",
       "\n",
       "                                                  text1  \\\n",
       "4889               glasgow helicopter crash search ends   \n",
       "3694  the resolution requires all 192 united nations...   \n",
       "1431                      a small bird on a tiny branch   \n",
       "1754  a small boy in a bathrobe is sitting in a meta...   \n",
       "4738  12 killed 25 injured in bomb blast in nw pakistan   \n",
       "5452          philippines typhoon death toll at 4460 un   \n",
       "92                      the man talked on the telephone   \n",
       "5981     a young girl smiling with her head upside down   \n",
       "1110                  a motorcycle parked next to a car   \n",
       "631                                    a man is running   \n",
       "\n",
       "                                                  text2  similarity  \\\n",
       "4889         glasgow helicopter crash at least six dead    0.713086   \n",
       "3694  resolution 1540 requires all countries to adop...    0.729845   \n",
       "1431              a small bird perched on an icy branch    0.556041   \n",
       "1754                    a boy in a robe sits in a chair    0.292799   \n",
       "4738         6 killed 12 injured in blast in nw pakista    0.672665   \n",
       "5452    philippines typhoon death toll rises above 5000    0.630340   \n",
       "92                      the man is talking on the phone    0.084495   \n",
       "5981             a girl poses with her head upside down    0.682433   \n",
       "1110           a bmw motorcycle parked between two cars    0.526654   \n",
       "631                                     a man is mooing    0.170546   \n",
       "\n",
       "      similarity_difference  \n",
       "4889                  0.153  \n",
       "3694                  0.010  \n",
       "1431                  0.044  \n",
       "1754                  0.547  \n",
       "4738                  0.153  \n",
       "5452                  0.050  \n",
       "92                    0.636  \n",
       "5981                  0.238  \n",
       "1110                  0.073  \n",
       "631                   0.029  "
      ]
     },
     "execution_count": 64,
     "metadata": {},
     "output_type": "execute_result"
    }
   ],
   "source": [
    "new_df['similarity_difference']=round(abs(new_df['benchmark_similarity_score']-new_df['similarity']),3)\n",
    "new_df.sample(10)"
   ]
  },
  {
   "cell_type": "code",
   "execution_count": 56,
   "metadata": {},
   "outputs": [
    {
     "data": {
      "text/plain": [
       "count    6947.00\n",
       "mean        0.17\n",
       "std         0.15\n",
       "min         0.00\n",
       "25%         0.05\n",
       "50%         0.13\n",
       "75%         0.25\n",
       "max         0.94\n",
       "Name: similarity_difference, dtype: float64"
      ]
     },
     "execution_count": 56,
     "metadata": {},
     "output_type": "execute_result"
    }
   ],
   "source": [
    "round(new_df['similarity_difference'].describe(),2)"
   ]
  },
  {
   "cell_type": "code",
   "execution_count": 57,
   "metadata": {},
   "outputs": [
    {
     "data": {
      "text/plain": [
       "0.012"
      ]
     },
     "execution_count": 57,
     "metadata": {},
     "output_type": "execute_result"
    }
   ],
   "source": [
    "new_df['similarity_difference'].quantile(0.10)"
   ]
  },
  {
   "cell_type": "code",
   "execution_count": 58,
   "metadata": {},
   "outputs": [
    {
     "data": {
      "text/plain": [
       "0.068"
      ]
     },
     "execution_count": 58,
     "metadata": {},
     "output_type": "execute_result"
    }
   ],
   "source": [
    "new_df['similarity_difference'].quantile(0.30)"
   ]
  },
  {
   "cell_type": "code",
   "execution_count": 59,
   "metadata": {},
   "outputs": [
    {
     "data": {
      "text/plain": [
       "0.096"
      ]
     },
     "execution_count": 59,
     "metadata": {},
     "output_type": "execute_result"
    }
   ],
   "source": [
    "new_df['similarity_difference'].quantile(0.40)"
   ]
  },
  {
   "cell_type": "code",
   "execution_count": 60,
   "metadata": {},
   "outputs": [
    {
     "data": {
      "text/plain": [
       "0.171"
      ]
     },
     "execution_count": 60,
     "metadata": {},
     "output_type": "execute_result"
    }
   ],
   "source": [
    "new_df['similarity_difference'].quantile(0.60)"
   ]
  },
  {
   "cell_type": "code",
   "execution_count": 61,
   "metadata": {},
   "outputs": [
    {
     "data": {
      "text/plain": [
       "0.282"
      ]
     },
     "execution_count": 61,
     "metadata": {},
     "output_type": "execute_result"
    }
   ],
   "source": [
    "new_df['similarity_difference'].quantile(0.80)"
   ]
  },
  {
   "cell_type": "code",
   "execution_count": 62,
   "metadata": {},
   "outputs": [
    {
     "data": {
      "text/plain": [
       "0.388"
      ]
     },
     "execution_count": 62,
     "metadata": {},
     "output_type": "execute_result"
    }
   ],
   "source": [
    "new_df['similarity_difference'].quantile(0.90)"
   ]
  },
  {
   "cell_type": "code",
   "execution_count": null,
   "metadata": {},
   "outputs": [],
   "source": []
  },
  {
   "cell_type": "code",
   "execution_count": null,
   "metadata": {},
   "outputs": [],
   "source": []
  },
  {
   "cell_type": "code",
   "execution_count": 65,
   "metadata": {},
   "outputs": [
    {
     "name": "stdout",
     "output_type": "stream",
     "text": [
      "Correlation Coefficient between benchmark and model similarity scores: 0.7220066204071192\n"
     ]
    },
    {
     "data": {
      "image/png": "[encoded data removed]",
      "text/plain": [
       "<Figure size 800x600 with 1 Axes>"
      ]
     },
     "metadata": {},
     "output_type": "display_data"
    }
   ],
   "source": [
    "correlation_coefficient = np.corrcoef(new_df['benchmark_similarity_score'], new_df['similarity'])[0, 1]\n",
    "print(\"Correlation Coefficient between benchmark and model similarity scores:\", correlation_coefficient)\n",
    "\n",
    "plt.figure(figsize=(8, 6))\n",
    "plt.scatter(new_df['benchmark_similarity_score'], new_df['similarity'], alpha=0.5)\n",
    "plt.title('Scatter Plot of Benchmark vs. Model Similarity Scores')\n",
    "plt.xlabel('Benchmark Similarity Scores')\n",
    "plt.ylabel('Model Similarity Scores')\n",
    "plt.grid(True)\n",
    "plt.show()"
   ]
  },
  {
   "cell_type": "markdown",
   "metadata": {},
   "source": [
    "## A correlation coefficient closer to 1 indicates a strong positive linear relationship between the two sets of scores.\n",
    "\n",
    "## Though correlation coefficient of 0.722 is not perfect, it suggests a substantial degree of agreement between your model's predictions and the benchmark similarity scores.\n",
    "\n",
    "## Therefore, based on this correlation coefficient, my model appears to be quite good at capturing text similarity when compared to the benchmark."
   ]
  },
  {
   "cell_type": "code",
   "execution_count": null,
   "metadata": {},
   "outputs": [],
   "source": []
  },
  {
   "cell_type": "code",
   "execution_count": null,
   "metadata": {},
   "outputs": [],
   "source": []
  }
 ],
 "metadata": {
  "colab": {
   "provenance": []
  },
  "kernelspec": {
   "display_name": "Python 3 (ipykernel)",
   "language": "python",
   "name": "python3"
  },
  "language_info": {
   "codemirror_mode": {
    "name": "ipython",
    "version": 3
   },
   "file_extension": ".py",
   "mimetype": "text/x-python",
   "name": "python",
   "nbconvert_exporter": "python",
   "pygments_lexer": "ipython3",
   "version": "3.9.13"
  }
 },
 "nbformat": 4,
 "nbformat_minor": 1
}
